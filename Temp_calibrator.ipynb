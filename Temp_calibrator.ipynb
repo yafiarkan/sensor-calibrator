{
  "nbformat": 4,
  "nbformat_minor": 0,
  "metadata": {
    "kernelspec": {
      "display_name": "Python",
      "language": "python",
      "name": "conda-env-python-py"
    },
    "language_info": {
      "codemirror_mode": {
        "name": "ipython",
        "version": 3
      },
      "file_extension": ".py",
      "mimetype": "text/x-python",
      "name": "python",
      "nbconvert_exporter": "python",
      "pygments_lexer": "ipython3",
      "version": "3.6.11"
    },
    "colab": {
      "name": "Temp calibrator.ipynb",
      "provenance": [],
      "collapsed_sections": []
    }
  },
  "cells": [
    {
      "cell_type": "code",
      "metadata": {
        "id": "LODutOhKE41r"
      },
      "source": [
        "import pandas as pd\n",
        "import numpy as np\n",
        "import matplotlib.pyplot as plt\n",
        "import seaborn as sns"
      ],
      "execution_count": null,
      "outputs": []
    },
    {
      "cell_type": "code",
      "metadata": {
        "id": "VxcR6X62E414",
        "colab": {
          "base_uri": "https://localhost:8080/",
          "height": 202
        },
        "outputId": "a6e4db4e-1206-4fae-838f-d9bd8db21720"
      },
      "source": [
        "df = pd.read_csv('fix full.csv')\n",
        "df.head()"
      ],
      "execution_count": null,
      "outputs": [
        {
          "output_type": "execute_result",
          "data": {
            "text/html": [
              "<div>\n",
              "<style scoped>\n",
              "    .dataframe tbody tr th:only-of-type {\n",
              "        vertical-align: middle;\n",
              "    }\n",
              "\n",
              "    .dataframe tbody tr th {\n",
              "        vertical-align: top;\n",
              "    }\n",
              "\n",
              "    .dataframe thead th {\n",
              "        text-align: right;\n",
              "    }\n",
              "</style>\n",
              "<table border=\"1\" class=\"dataframe\">\n",
              "  <thead>\n",
              "    <tr style=\"text-align: right;\">\n",
              "      <th></th>\n",
              "      <th>DHT22 (°C)</th>\n",
              "      <th>DHT22 KELEMBABAN(%)</th>\n",
              "      <th>DHT11 (°C)</th>\n",
              "      <th>DHT11 KELEMBABAN(%)</th>\n",
              "      <th>LM35 (°C)</th>\n",
              "      <th>LM35 Vout</th>\n",
              "      <th>Suhu Aktual(°C)</th>\n",
              "    </tr>\n",
              "  </thead>\n",
              "  <tbody>\n",
              "    <tr>\n",
              "      <th>0</th>\n",
              "      <td>18.7</td>\n",
              "      <td>92.1</td>\n",
              "      <td>20</td>\n",
              "      <td>72</td>\n",
              "      <td>24.90</td>\n",
              "      <td>249.02</td>\n",
              "      <td>16</td>\n",
              "    </tr>\n",
              "    <tr>\n",
              "      <th>1</th>\n",
              "      <td>18.7</td>\n",
              "      <td>92.0</td>\n",
              "      <td>20</td>\n",
              "      <td>72</td>\n",
              "      <td>24.41</td>\n",
              "      <td>244.14</td>\n",
              "      <td>16</td>\n",
              "    </tr>\n",
              "    <tr>\n",
              "      <th>2</th>\n",
              "      <td>18.7</td>\n",
              "      <td>92.1</td>\n",
              "      <td>20</td>\n",
              "      <td>72</td>\n",
              "      <td>24.41</td>\n",
              "      <td>244.14</td>\n",
              "      <td>16</td>\n",
              "    </tr>\n",
              "    <tr>\n",
              "      <th>3</th>\n",
              "      <td>18.7</td>\n",
              "      <td>92.2</td>\n",
              "      <td>20</td>\n",
              "      <td>72</td>\n",
              "      <td>24.41</td>\n",
              "      <td>244.14</td>\n",
              "      <td>16</td>\n",
              "    </tr>\n",
              "    <tr>\n",
              "      <th>4</th>\n",
              "      <td>18.7</td>\n",
              "      <td>92.3</td>\n",
              "      <td>20</td>\n",
              "      <td>72</td>\n",
              "      <td>24.41</td>\n",
              "      <td>244.14</td>\n",
              "      <td>16</td>\n",
              "    </tr>\n",
              "  </tbody>\n",
              "</table>\n",
              "</div>"
            ],
            "text/plain": [
              "   DHT22 (°C)  DHT22 KELEMBABAN(%)  ...  LM35 Vout  Suhu Aktual(°C)\n",
              "0        18.7                 92.1  ...     249.02               16\n",
              "1        18.7                 92.0  ...     244.14               16\n",
              "2        18.7                 92.1  ...     244.14               16\n",
              "3        18.7                 92.2  ...     244.14               16\n",
              "4        18.7                 92.3  ...     244.14               16\n",
              "\n",
              "[5 rows x 7 columns]"
            ]
          },
          "metadata": {
            "tags": []
          },
          "execution_count": 2
        }
      ]
    },
    {
      "cell_type": "code",
      "metadata": {
        "id": "rsEy3M1YE419",
        "colab": {
          "base_uri": "https://localhost:8080/"
        },
        "outputId": "d30c3c4c-ba4f-4338-881c-f04a74eca4f5"
      },
      "source": [
        "df.info()"
      ],
      "execution_count": null,
      "outputs": [
        {
          "output_type": "stream",
          "text": [
            "<class 'pandas.core.frame.DataFrame'>\n",
            "RangeIndex: 1224 entries, 0 to 1223\n",
            "Data columns (total 7 columns):\n",
            " #   Column               Non-Null Count  Dtype  \n",
            "---  ------               --------------  -----  \n",
            " 0   DHT22 (°C)           1224 non-null   float64\n",
            " 1   DHT22 KELEMBABAN(%)  1224 non-null   float64\n",
            " 2   DHT11 (°C)           1224 non-null   int64  \n",
            " 3   DHT11 KELEMBABAN(%)  1224 non-null   int64  \n",
            " 4   LM35 (°C)            1224 non-null   float64\n",
            " 5   LM35 Vout            1224 non-null   float64\n",
            " 6   Suhu Aktual(°C)      1224 non-null   int64  \n",
            "dtypes: float64(4), int64(3)\n",
            "memory usage: 67.1 KB\n"
          ],
          "name": "stdout"
        }
      ]
    },
    {
      "cell_type": "code",
      "metadata": {
        "id": "_bIeJrELE42A"
      },
      "source": [
        "df = df.drop(columns =['LM35 Vout'])"
      ],
      "execution_count": null,
      "outputs": []
    },
    {
      "cell_type": "code",
      "metadata": {
        "id": "tRqLjwUUE42D",
        "colab": {
          "base_uri": "https://localhost:8080/",
          "height": 202
        },
        "outputId": "aae058dc-0d9f-4578-b136-34242c91e750"
      },
      "source": [
        "df.head()"
      ],
      "execution_count": null,
      "outputs": [
        {
          "output_type": "execute_result",
          "data": {
            "text/html": [
              "<div>\n",
              "<style scoped>\n",
              "    .dataframe tbody tr th:only-of-type {\n",
              "        vertical-align: middle;\n",
              "    }\n",
              "\n",
              "    .dataframe tbody tr th {\n",
              "        vertical-align: top;\n",
              "    }\n",
              "\n",
              "    .dataframe thead th {\n",
              "        text-align: right;\n",
              "    }\n",
              "</style>\n",
              "<table border=\"1\" class=\"dataframe\">\n",
              "  <thead>\n",
              "    <tr style=\"text-align: right;\">\n",
              "      <th></th>\n",
              "      <th>DHT22 (°C)</th>\n",
              "      <th>DHT22 KELEMBABAN(%)</th>\n",
              "      <th>DHT11 (°C)</th>\n",
              "      <th>DHT11 KELEMBABAN(%)</th>\n",
              "      <th>LM35 (°C)</th>\n",
              "      <th>Suhu Aktual(°C)</th>\n",
              "    </tr>\n",
              "  </thead>\n",
              "  <tbody>\n",
              "    <tr>\n",
              "      <th>0</th>\n",
              "      <td>18.7</td>\n",
              "      <td>92.1</td>\n",
              "      <td>20</td>\n",
              "      <td>72</td>\n",
              "      <td>24.90</td>\n",
              "      <td>16</td>\n",
              "    </tr>\n",
              "    <tr>\n",
              "      <th>1</th>\n",
              "      <td>18.7</td>\n",
              "      <td>92.0</td>\n",
              "      <td>20</td>\n",
              "      <td>72</td>\n",
              "      <td>24.41</td>\n",
              "      <td>16</td>\n",
              "    </tr>\n",
              "    <tr>\n",
              "      <th>2</th>\n",
              "      <td>18.7</td>\n",
              "      <td>92.1</td>\n",
              "      <td>20</td>\n",
              "      <td>72</td>\n",
              "      <td>24.41</td>\n",
              "      <td>16</td>\n",
              "    </tr>\n",
              "    <tr>\n",
              "      <th>3</th>\n",
              "      <td>18.7</td>\n",
              "      <td>92.2</td>\n",
              "      <td>20</td>\n",
              "      <td>72</td>\n",
              "      <td>24.41</td>\n",
              "      <td>16</td>\n",
              "    </tr>\n",
              "    <tr>\n",
              "      <th>4</th>\n",
              "      <td>18.7</td>\n",
              "      <td>92.3</td>\n",
              "      <td>20</td>\n",
              "      <td>72</td>\n",
              "      <td>24.41</td>\n",
              "      <td>16</td>\n",
              "    </tr>\n",
              "  </tbody>\n",
              "</table>\n",
              "</div>"
            ],
            "text/plain": [
              "   DHT22 (°C)  DHT22 KELEMBABAN(%)  ...  LM35 (°C)  Suhu Aktual(°C)\n",
              "0        18.7                 92.1  ...      24.90               16\n",
              "1        18.7                 92.0  ...      24.41               16\n",
              "2        18.7                 92.1  ...      24.41               16\n",
              "3        18.7                 92.2  ...      24.41               16\n",
              "4        18.7                 92.3  ...      24.41               16\n",
              "\n",
              "[5 rows x 6 columns]"
            ]
          },
          "metadata": {
            "tags": []
          },
          "execution_count": 4
        }
      ]
    },
    {
      "cell_type": "code",
      "metadata": {
        "id": "EvV3_4IbE42F",
        "colab": {
          "base_uri": "https://localhost:8080/",
          "height": 557
        },
        "outputId": "e12a969c-d54f-49ed-a132-c4e8d10ed314"
      },
      "source": [
        "corr = df.corr()\n",
        "\n",
        "plt.figure(figsize = (15,10))\n",
        "corr_h = sns.heatmap(corr, \n",
        "        xticklabels=corr.columns,\n",
        "        yticklabels=corr.columns, annot = True, cmap ='Blues')\n",
        "plt.savefig('corr_h.png', dpi = 400)"
      ],
      "execution_count": null,
      "outputs": [
        {
          "output_type": "display_data",
          "data": {
            "image/png": "[encoded data removed]",
            "text/plain": [
              "<Figure size 1080x720 with 2 Axes>"
            ]
          },
          "metadata": {
            "tags": [],
            "needs_background": "light"
          }
        }
      ]
    },
    {
      "cell_type": "code",
      "metadata": {
        "id": "bQu_2OW0E42I"
      },
      "source": [
        "X = df.iloc[:,0:5]"
      ],
      "execution_count": null,
      "outputs": []
    },
    {
      "cell_type": "code",
      "metadata": {
        "id": "CYVMB7KIE42K",
        "colab": {
          "base_uri": "https://localhost:8080/",
          "height": 202
        },
        "outputId": "732a6f05-bbc6-40eb-8d87-c58afa09189f"
      },
      "source": [
        "X.head()"
      ],
      "execution_count": null,
      "outputs": [
        {
          "output_type": "execute_result",
          "data": {
            "text/html": [
              "<div>\n",
              "<style scoped>\n",
              "    .dataframe tbody tr th:only-of-type {\n",
              "        vertical-align: middle;\n",
              "    }\n",
              "\n",
              "    .dataframe tbody tr th {\n",
              "        vertical-align: top;\n",
              "    }\n",
              "\n",
              "    .dataframe thead th {\n",
              "        text-align: right;\n",
              "    }\n",
              "</style>\n",
              "<table border=\"1\" class=\"dataframe\">\n",
              "  <thead>\n",
              "    <tr style=\"text-align: right;\">\n",
              "      <th></th>\n",
              "      <th>DHT22 (°C)</th>\n",
              "      <th>DHT22 KELEMBABAN(%)</th>\n",
              "      <th>DHT11 (°C)</th>\n",
              "      <th>DHT11 KELEMBABAN(%)</th>\n",
              "      <th>LM35 (°C)</th>\n",
              "    </tr>\n",
              "  </thead>\n",
              "  <tbody>\n",
              "    <tr>\n",
              "      <th>0</th>\n",
              "      <td>18.7</td>\n",
              "      <td>92.1</td>\n",
              "      <td>20</td>\n",
              "      <td>72</td>\n",
              "      <td>24.90</td>\n",
              "    </tr>\n",
              "    <tr>\n",
              "      <th>1</th>\n",
              "      <td>18.7</td>\n",
              "      <td>92.0</td>\n",
              "      <td>20</td>\n",
              "      <td>72</td>\n",
              "      <td>24.41</td>\n",
              "    </tr>\n",
              "    <tr>\n",
              "      <th>2</th>\n",
              "      <td>18.7</td>\n",
              "      <td>92.1</td>\n",
              "      <td>20</td>\n",
              "      <td>72</td>\n",
              "      <td>24.41</td>\n",
              "    </tr>\n",
              "    <tr>\n",
              "      <th>3</th>\n",
              "      <td>18.7</td>\n",
              "      <td>92.2</td>\n",
              "      <td>20</td>\n",
              "      <td>72</td>\n",
              "      <td>24.41</td>\n",
              "    </tr>\n",
              "    <tr>\n",
              "      <th>4</th>\n",
              "      <td>18.7</td>\n",
              "      <td>92.3</td>\n",
              "      <td>20</td>\n",
              "      <td>72</td>\n",
              "      <td>24.41</td>\n",
              "    </tr>\n",
              "  </tbody>\n",
              "</table>\n",
              "</div>"
            ],
            "text/plain": [
              "   DHT22 (°C)  DHT22 KELEMBABAN(%)  DHT11 (°C)  DHT11 KELEMBABAN(%)  LM35 (°C)\n",
              "0        18.7                 92.1          20                   72      24.90\n",
              "1        18.7                 92.0          20                   72      24.41\n",
              "2        18.7                 92.1          20                   72      24.41\n",
              "3        18.7                 92.2          20                   72      24.41\n",
              "4        18.7                 92.3          20                   72      24.41"
            ]
          },
          "metadata": {
            "tags": []
          },
          "execution_count": 6
        }
      ]
    },
    {
      "cell_type": "code",
      "metadata": {
        "id": "c30p1xFhg7Tt"
      },
      "source": [
        "from sklearn.preprocessing import StandardScaler\n",
        "scaler = StandardScaler()\n",
        "scaledX = scaler.fit_transform(X)\n",
        "df['ScaledL'] = scaledX[:,4]\n",
        "df['ScaledD22'] = scaledX[:,0]\n",
        "df['ScaledD11'] = scaledX[:,2]\n",
        "df['ScaledKD11'] = scaledX[:,3]\n",
        "df['ScaledKD22'] = scaledX[:,1]"
      ],
      "execution_count": null,
      "outputs": []
    },
    {
      "cell_type": "code",
      "metadata": {
        "id": "H-IZj8dcknT0",
        "colab": {
          "base_uri": "https://localhost:8080/",
          "height": 239
        },
        "outputId": "04534c64-a28d-4356-f082-ca4b7d38ed73"
      },
      "source": [
        "df.head()"
      ],
      "execution_count": null,
      "outputs": [
        {
          "output_type": "execute_result",
          "data": {
            "text/html": [
              "<div>\n",
              "<style scoped>\n",
              "    .dataframe tbody tr th:only-of-type {\n",
              "        vertical-align: middle;\n",
              "    }\n",
              "\n",
              "    .dataframe tbody tr th {\n",
              "        vertical-align: top;\n",
              "    }\n",
              "\n",
              "    .dataframe thead th {\n",
              "        text-align: right;\n",
              "    }\n",
              "</style>\n",
              "<table border=\"1\" class=\"dataframe\">\n",
              "  <thead>\n",
              "    <tr style=\"text-align: right;\">\n",
              "      <th></th>\n",
              "      <th>DHT22 (°C)</th>\n",
              "      <th>DHT22 KELEMBABAN(%)</th>\n",
              "      <th>DHT11 (°C)</th>\n",
              "      <th>DHT11 KELEMBABAN(%)</th>\n",
              "      <th>LM35 (°C)</th>\n",
              "      <th>Suhu Aktual(°C)</th>\n",
              "      <th>ScaledL</th>\n",
              "      <th>ScaledD22</th>\n",
              "      <th>ScaledD11</th>\n",
              "      <th>ScaledKD11</th>\n",
              "      <th>ScaledKD22</th>\n",
              "    </tr>\n",
              "  </thead>\n",
              "  <tbody>\n",
              "    <tr>\n",
              "      <th>0</th>\n",
              "      <td>18.7</td>\n",
              "      <td>92.1</td>\n",
              "      <td>20</td>\n",
              "      <td>72</td>\n",
              "      <td>24.90</td>\n",
              "      <td>16</td>\n",
              "      <td>-1.378956</td>\n",
              "      <td>-1.581595</td>\n",
              "      <td>-1.430925</td>\n",
              "      <td>0.579381</td>\n",
              "      <td>1.228920</td>\n",
              "    </tr>\n",
              "    <tr>\n",
              "      <th>1</th>\n",
              "      <td>18.7</td>\n",
              "      <td>92.0</td>\n",
              "      <td>20</td>\n",
              "      <td>72</td>\n",
              "      <td>24.41</td>\n",
              "      <td>16</td>\n",
              "      <td>-1.494026</td>\n",
              "      <td>-1.581595</td>\n",
              "      <td>-1.430925</td>\n",
              "      <td>0.579381</td>\n",
              "      <td>1.223552</td>\n",
              "    </tr>\n",
              "    <tr>\n",
              "      <th>2</th>\n",
              "      <td>18.7</td>\n",
              "      <td>92.1</td>\n",
              "      <td>20</td>\n",
              "      <td>72</td>\n",
              "      <td>24.41</td>\n",
              "      <td>16</td>\n",
              "      <td>-1.494026</td>\n",
              "      <td>-1.581595</td>\n",
              "      <td>-1.430925</td>\n",
              "      <td>0.579381</td>\n",
              "      <td>1.228920</td>\n",
              "    </tr>\n",
              "    <tr>\n",
              "      <th>3</th>\n",
              "      <td>18.7</td>\n",
              "      <td>92.2</td>\n",
              "      <td>20</td>\n",
              "      <td>72</td>\n",
              "      <td>24.41</td>\n",
              "      <td>16</td>\n",
              "      <td>-1.494026</td>\n",
              "      <td>-1.581595</td>\n",
              "      <td>-1.430925</td>\n",
              "      <td>0.579381</td>\n",
              "      <td>1.234289</td>\n",
              "    </tr>\n",
              "    <tr>\n",
              "      <th>4</th>\n",
              "      <td>18.7</td>\n",
              "      <td>92.3</td>\n",
              "      <td>20</td>\n",
              "      <td>72</td>\n",
              "      <td>24.41</td>\n",
              "      <td>16</td>\n",
              "      <td>-1.494026</td>\n",
              "      <td>-1.581595</td>\n",
              "      <td>-1.430925</td>\n",
              "      <td>0.579381</td>\n",
              "      <td>1.239658</td>\n",
              "    </tr>\n",
              "  </tbody>\n",
              "</table>\n",
              "</div>"
            ],
            "text/plain": [
              "   DHT22 (°C)  DHT22 KELEMBABAN(%)  ...  ScaledKD11  ScaledKD22\n",
              "0        18.7                 92.1  ...    0.579381    1.228920\n",
              "1        18.7                 92.0  ...    0.579381    1.223552\n",
              "2        18.7                 92.1  ...    0.579381    1.228920\n",
              "3        18.7                 92.2  ...    0.579381    1.234289\n",
              "4        18.7                 92.3  ...    0.579381    1.239658\n",
              "\n",
              "[5 rows x 11 columns]"
            ]
          },
          "metadata": {
            "tags": []
          },
          "execution_count": 8
        }
      ]
    },
    {
      "cell_type": "code",
      "metadata": {
        "id": "5czQtci7k3nT",
        "colab": {
          "base_uri": "https://localhost:8080/"
        },
        "outputId": "f86f5165-0a46-4b47-f9aa-f9ecedd59e27"
      },
      "source": [
        "df.info()"
      ],
      "execution_count": null,
      "outputs": [
        {
          "output_type": "stream",
          "text": [
            "<class 'pandas.core.frame.DataFrame'>\n",
            "RangeIndex: 1224 entries, 0 to 1223\n",
            "Data columns (total 11 columns):\n",
            " #   Column               Non-Null Count  Dtype  \n",
            "---  ------               --------------  -----  \n",
            " 0   DHT22 (°C)           1224 non-null   float64\n",
            " 1   DHT22 KELEMBABAN(%)  1224 non-null   float64\n",
            " 2   DHT11 (°C)           1224 non-null   int64  \n",
            " 3   DHT11 KELEMBABAN(%)  1224 non-null   int64  \n",
            " 4   LM35 (°C)            1224 non-null   float64\n",
            " 5   Suhu Aktual(°C)      1224 non-null   int64  \n",
            " 6   ScaledL              1224 non-null   float64\n",
            " 7   ScaledD22            1224 non-null   float64\n",
            " 8   ScaledD11            1224 non-null   float64\n",
            " 9   ScaledKD11           1224 non-null   float64\n",
            " 10  ScaledKD22           1224 non-null   float64\n",
            "dtypes: float64(8), int64(3)\n",
            "memory usage: 105.3 KB\n"
          ],
          "name": "stdout"
        }
      ]
    },
    {
      "cell_type": "code",
      "metadata": {
        "id": "bgY2TD86E42N"
      },
      "source": [
        "Y = df['Suhu Aktual(°C)']"
      ],
      "execution_count": null,
      "outputs": []
    },
    {
      "cell_type": "code",
      "metadata": {
        "id": "ju1cX1pNE42P",
        "colab": {
          "base_uri": "https://localhost:8080/"
        },
        "outputId": "75a55f0f-5ce3-41fd-ae4e-bde86855c328"
      },
      "source": [
        "Y.head()"
      ],
      "execution_count": null,
      "outputs": [
        {
          "output_type": "execute_result",
          "data": {
            "text/plain": [
              "0    16\n",
              "1    16\n",
              "2    16\n",
              "3    16\n",
              "4    16\n",
              "Name: Suhu Aktual(°C), dtype: int64"
            ]
          },
          "metadata": {
            "tags": []
          },
          "execution_count": 10
        }
      ]
    },
    {
      "cell_type": "code",
      "metadata": {
        "id": "5-8TUYe5E42R"
      },
      "source": [
        "rang = 23/len(Y)\n",
        "x = np.arange(16,39,rang)"
      ],
      "execution_count": null,
      "outputs": []
    },
    {
      "cell_type": "code",
      "metadata": {
        "id": "Af8ZVO68E42V",
        "colab": {
          "base_uri": "https://localhost:8080/",
          "height": 281
        },
        "outputId": "7c33c47d-edd6-4a33-f625-17524bbbf1df"
      },
      "source": [
        "plt.plot(x, Y,  'r') #Actual temperature\n",
        "plt.plot(x,X['LM35 (°C)'], 'r', c= 'blue') #LM35\n",
        "plt.ylabel('Read Temperature (°C)')\n",
        "plt.xlabel('Temperature (°C)')\n",
        "plt.legend([\"Actual\", \"LM 35\"], loc =\"lower right\")\n",
        "LM35_pict = plt.gcf()\n",
        "plt.show()\n",
        "LM35_pict.savefig('LM35 vs Actual.png',dpi = 400)"
      ],
      "execution_count": null,
      "outputs": [
        {
          "output_type": "display_data",
          "data": {
            "image/png": "[encoded data removed]",
            "text/plain": [
              "<Figure size 432x288 with 1 Axes>"
            ]
          },
          "metadata": {
            "tags": [],
            "needs_background": "light"
          }
        }
      ]
    },
    {
      "cell_type": "code",
      "metadata": {
        "id": "-MzP5PODE42X"
      },
      "source": [
        "from sklearn.metrics import mean_squared_error as mse"
      ],
      "execution_count": null,
      "outputs": []
    },
    {
      "cell_type": "code",
      "metadata": {
        "colab": {
          "base_uri": "https://localhost:8080/"
        },
        "id": "UGTBUqQZTxZl",
        "outputId": "2d9ca0c8-b157-4846-813d-4af62770e5cf"
      },
      "source": [
        "mse(Y,X['LM35 (°C)'])"
      ],
      "execution_count": null,
      "outputs": [
        {
          "output_type": "execute_result",
          "data": {
            "text/plain": [
              "12.79343227124183"
            ]
          },
          "metadata": {
            "tags": []
          },
          "execution_count": 13
        }
      ]
    },
    {
      "cell_type": "code",
      "metadata": {
        "id": "OFNxrV1hE42a",
        "colab": {
          "base_uri": "https://localhost:8080/",
          "height": 279
        },
        "outputId": "3a01bc01-a2ae-46b8-b366-832a2605239f"
      },
      "source": [
        "plt.plot(x, Y,  'r') #Actual temperature\n",
        "plt.plot(x,X['DHT11 (°C)'], 'r', c= 'blue') #LM35\n",
        "plt.ylabel('Read Temperature (°C)')\n",
        "plt.xlabel('Temperature (°C)')\n",
        "plt.legend([\"Actual\", \"DHT11\"], loc =\"lower right\")\n",
        "DHT11_pict = plt.gcf()\n",
        "plt.show()\n",
        "DHT11_pict.savefig('DHT11 vs Actual.png',dpi = 400)"
      ],
      "execution_count": null,
      "outputs": [
        {
          "output_type": "display_data",
          "data": {
            "image/png": "[encoded data removed]",
            "text/plain": [
              "<Figure size 432x288 with 1 Axes>"
            ]
          },
          "metadata": {
            "tags": [],
            "needs_background": "light"
          }
        }
      ]
    },
    {
      "cell_type": "code",
      "metadata": {
        "id": "Me-KN4shE42c",
        "colab": {
          "base_uri": "https://localhost:8080/"
        },
        "outputId": "91eb59a7-53d4-4381-f430-f08a48b1e52d"
      },
      "source": [
        "mse(Y,X['DHT11 (°C)'])"
      ],
      "execution_count": null,
      "outputs": [
        {
          "output_type": "execute_result",
          "data": {
            "text/plain": [
              "19.084967320261438"
            ]
          },
          "metadata": {
            "tags": []
          },
          "execution_count": 36
        }
      ]
    },
    {
      "cell_type": "code",
      "metadata": {
        "id": "0cdl1-iDE42f",
        "colab": {
          "base_uri": "https://localhost:8080/",
          "height": 279
        },
        "outputId": "67eaff0e-c997-4c08-996e-aeaee6309ed2"
      },
      "source": [
        "plt.plot(x, Y,  'r') #Actual temperature\n",
        "plt.plot(x,X['DHT22 (°C)'], 'r', c= 'blue') #LM35\n",
        "plt.ylabel('Read Temperature (°C)')\n",
        "plt.xlabel('Temperature (°C)')\n",
        "plt.legend([\"Actual\", \"DHT22\"], loc =\"lower right\")\n",
        "DHT22_pict = plt.gcf()\n",
        "plt.show()\n",
        "DHT22_pict.savefig('DHT22 vs Actual.png',dpi = 400)"
      ],
      "execution_count": null,
      "outputs": [
        {
          "output_type": "display_data",
          "data": {
            "image/png": "[encoded data removed]",
            "text/plain": [
              "<Figure size 432x288 with 1 Axes>"
            ]
          },
          "metadata": {
            "tags": [],
            "needs_background": "light"
          }
        }
      ]
    },
    {
      "cell_type": "code",
      "metadata": {
        "id": "zcpmWm7XE42h",
        "colab": {
          "base_uri": "https://localhost:8080/"
        },
        "outputId": "ab8640e7-2caf-4194-c43d-feed059693e0"
      },
      "source": [
        "mse(Y,X['DHT22 (°C)'])"
      ],
      "execution_count": null,
      "outputs": [
        {
          "output_type": "execute_result",
          "data": {
            "text/plain": [
              "16.472246732026143"
            ]
          },
          "metadata": {
            "tags": []
          },
          "execution_count": 39
        }
      ]
    },
    {
      "cell_type": "code",
      "metadata": {
        "id": "f2yDMgddE42l"
      },
      "source": [
        "X_DHT11 = X['DHT11 (°C)']\n",
        "X_DHT22 = X['DHT22 (°C)']\n",
        "X_LM35 = X['LM35 (°C)']"
      ],
      "execution_count": null,
      "outputs": []
    },
    {
      "cell_type": "code",
      "metadata": {
        "id": "gIf-rI_-th4n"
      },
      "source": [
        "X_DHT11 = X_DHT11.rename_axis('temp')\n",
        "X_DHT22 = X_DHT22.rename_axis('temp')\n",
        "X_LM35 = X_LM35.rename_axis('temp')"
      ],
      "execution_count": null,
      "outputs": []
    },
    {
      "cell_type": "code",
      "metadata": {
        "id": "-sYW67dIE42n",
        "colab": {
          "base_uri": "https://localhost:8080/"
        },
        "outputId": "e795837f-9a46-4b32-c1e8-11cf4b026a6d"
      },
      "source": [
        "X_LM35.head()"
      ],
      "execution_count": null,
      "outputs": [
        {
          "output_type": "execute_result",
          "data": {
            "text/plain": [
              "temp\n",
              "0    24.90\n",
              "1    24.41\n",
              "2    24.41\n",
              "3    24.41\n",
              "4    24.41\n",
              "Name: LM35 (°C), dtype: float64"
            ]
          },
          "metadata": {
            "tags": []
          },
          "execution_count": 42
        }
      ]
    },
    {
      "cell_type": "code",
      "metadata": {
        "id": "WYNKgzLYE42p",
        "colab": {
          "base_uri": "https://localhost:8080/"
        },
        "outputId": "d8de4408-7b91-475b-b7dd-74b8cbef2576"
      },
      "source": [
        "X_DHT11.head()"
      ],
      "execution_count": null,
      "outputs": [
        {
          "output_type": "execute_result",
          "data": {
            "text/plain": [
              "temp\n",
              "0    20\n",
              "1    20\n",
              "2    20\n",
              "3    20\n",
              "4    20\n",
              "Name: DHT11 (°C), dtype: int64"
            ]
          },
          "metadata": {
            "tags": []
          },
          "execution_count": 43
        }
      ]
    },
    {
      "cell_type": "code",
      "metadata": {
        "id": "yTKcINNPE42r",
        "colab": {
          "base_uri": "https://localhost:8080/"
        },
        "outputId": "19e113ef-8279-45de-a4ca-050b0a11ca36"
      },
      "source": [
        "X_DHT22.head()"
      ],
      "execution_count": null,
      "outputs": [
        {
          "output_type": "execute_result",
          "data": {
            "text/plain": [
              "temp\n",
              "0    18.7\n",
              "1    18.7\n",
              "2    18.7\n",
              "3    18.7\n",
              "4    18.7\n",
              "Name: DHT22 (°C), dtype: float64"
            ]
          },
          "metadata": {
            "tags": []
          },
          "execution_count": 44
        }
      ]
    },
    {
      "cell_type": "code",
      "metadata": {
        "id": "_3XwOHiRjKUu",
        "colab": {
          "base_uri": "https://localhost:8080/",
          "height": 297
        },
        "outputId": "b01bfc19-1020-4a84-d792-4605576b71c9"
      },
      "source": [
        "sns.boxplot(x=X_LM35)"
      ],
      "execution_count": null,
      "outputs": [
        {
          "output_type": "execute_result",
          "data": {
            "text/plain": [
              "<matplotlib.axes._subplots.AxesSubplot at 0x7f1a3f563be0>"
            ]
          },
          "metadata": {
            "tags": []
          },
          "execution_count": 45
        },
        {
          "output_type": "display_data",
          "data": {
            "image/png": "[encoded data removed]",
            "text/plain": [
              "<Figure size 432x288 with 1 Axes>"
            ]
          },
          "metadata": {
            "tags": [],
            "needs_background": "light"
          }
        }
      ]
    },
    {
      "cell_type": "code",
      "metadata": {
        "id": "RP6Kr0cojP5f",
        "colab": {
          "base_uri": "https://localhost:8080/",
          "height": 297
        },
        "outputId": "5a9e6778-49f0-4df2-bb33-4a1d4d629ec0"
      },
      "source": [
        "sns.boxplot(x=X_DHT11)"
      ],
      "execution_count": null,
      "outputs": [
        {
          "output_type": "execute_result",
          "data": {
            "text/plain": [
              "<matplotlib.axes._subplots.AxesSubplot at 0x7f1a3ee08cc0>"
            ]
          },
          "metadata": {
            "tags": []
          },
          "execution_count": 46
        },
        {
          "output_type": "display_data",
          "data": {
            "image/png": "[encoded data removed]",
            "text/plain": [
              "<Figure size 432x288 with 1 Axes>"
            ]
          },
          "metadata": {
            "tags": [],
            "needs_background": "light"
          }
        }
      ]
    },
    {
      "cell_type": "code",
      "metadata": {
        "id": "XxzC8DuKjSx-",
        "colab": {
          "base_uri": "https://localhost:8080/",
          "height": 297
        },
        "outputId": "fea6d20f-d445-44ae-fb49-d284ca20ff58"
      },
      "source": [
        "sns.boxplot(x=X_DHT22)"
      ],
      "execution_count": null,
      "outputs": [
        {
          "output_type": "execute_result",
          "data": {
            "text/plain": [
              "<matplotlib.axes._subplots.AxesSubplot at 0x7f1a3ed78240>"
            ]
          },
          "metadata": {
            "tags": []
          },
          "execution_count": 47
        },
        {
          "output_type": "display_data",
          "data": {
            "image/png": "[encoded data removed]",
            "text/plain": [
              "<Figure size 432x288 with 1 Axes>"
            ]
          },
          "metadata": {
            "tags": [],
            "needs_background": "light"
          }
        }
      ]
    },
    {
      "cell_type": "code",
      "metadata": {
        "id": "P4CDpMaMdpep"
      },
      "source": [
        "outliers=[]\n",
        "def detect_outlier(data_1):\n",
        "    \n",
        "    threshold=3\n",
        "    mean_1 = np.mean(data_1)\n",
        "    std_1 =np.std(data_1)\n",
        "    \n",
        "    \n",
        "    for y in data_1:\n",
        "        z_score= (y - mean_1)/std_1 \n",
        "        if np.abs(z_score) > threshold:\n",
        "            outliers.append(y)\n",
        "    return outliers"
      ],
      "execution_count": null,
      "outputs": []
    },
    {
      "cell_type": "code",
      "metadata": {
        "id": "4bcwCSTpqi9H",
        "colab": {
          "base_uri": "https://localhost:8080/"
        },
        "outputId": "b6279d6f-492d-4cca-d7d8-cdc278aa2ca4"
      },
      "source": [
        "outliers=[]\n",
        "outLM = detect_outlier(X_LM35)\n",
        "outLM"
      ],
      "execution_count": null,
      "outputs": [
        {
          "output_type": "execute_result",
          "data": {
            "text/plain": [
              "[43.95, 43.95, 43.95]"
            ]
          },
          "metadata": {
            "tags": []
          },
          "execution_count": 17
        }
      ]
    },
    {
      "cell_type": "code",
      "metadata": {
        "id": "XM-H1jNIqxQ0",
        "colab": {
          "base_uri": "https://localhost:8080/"
        },
        "outputId": "263f135f-6c92-4c2d-84ca-3b9610a867a1"
      },
      "source": [
        "outliers=[]\n",
        "outDHT22 = detect_outlier(X_DHT22)\n",
        "outDHT22"
      ],
      "execution_count": null,
      "outputs": [
        {
          "output_type": "execute_result",
          "data": {
            "text/plain": [
              "[]"
            ]
          },
          "metadata": {
            "tags": []
          },
          "execution_count": 18
        }
      ]
    },
    {
      "cell_type": "code",
      "metadata": {
        "id": "ZeNh6sLwrjTq",
        "colab": {
          "base_uri": "https://localhost:8080/"
        },
        "outputId": "b85fdb95-b821-44d7-868a-01f0040ffb31"
      },
      "source": [
        "outliers=[]\n",
        "outDHT11 = detect_outlier(X_DHT11)\n",
        "outDHT11"
      ],
      "execution_count": null,
      "outputs": [
        {
          "output_type": "execute_result",
          "data": {
            "text/plain": [
              "[]"
            ]
          },
          "metadata": {
            "tags": []
          },
          "execution_count": 19
        }
      ]
    },
    {
      "cell_type": "code",
      "metadata": {
        "id": "1fsI-WQ339Q9"
      },
      "source": [
        "df.drop(index=df[(df['LM35 (°C)'] == 43.95)].index,inplace=True,axis=0)"
      ],
      "execution_count": null,
      "outputs": []
    },
    {
      "cell_type": "code",
      "metadata": {
        "id": "67-Fyv2t4P4J",
        "colab": {
          "base_uri": "https://localhost:8080/"
        },
        "outputId": "e3f15dea-2cb4-4f7b-a727-1a23854f46cd"
      },
      "source": [
        "df.info"
      ],
      "execution_count": null,
      "outputs": [
        {
          "output_type": "execute_result",
          "data": {
            "text/plain": [
              "<bound method DataFrame.info of       DHT22 (°C)  DHT22 KELEMBABAN(%)  ...  ScaledKD11  ScaledKD22\n",
              "0           18.7                 92.1  ...    0.579381    1.228920\n",
              "1           18.7                 92.0  ...    0.579381    1.223552\n",
              "2           18.7                 92.1  ...    0.579381    1.228920\n",
              "3           18.7                 92.2  ...    0.579381    1.234289\n",
              "4           18.7                 92.3  ...    0.579381    1.239658\n",
              "...          ...                  ...  ...         ...         ...\n",
              "1219        51.3                 32.7  ...   -2.589758   -1.960079\n",
              "1220        51.3                 32.7  ...   -2.589758   -1.960079\n",
              "1221        51.1                 32.7  ...   -2.589758   -1.960079\n",
              "1222        51.1                 32.7  ...   -2.589758   -1.960079\n",
              "1223        51.1                 32.7  ...   -2.589758   -1.960079\n",
              "\n",
              "[1221 rows x 11 columns]>"
            ]
          },
          "metadata": {
            "tags": []
          },
          "execution_count": 21
        }
      ]
    },
    {
      "cell_type": "code",
      "metadata": {
        "id": "X3WmNQfn4noN"
      },
      "source": [
        "X_DHT11 = df['DHT11 (°C)']\n",
        "X_DHT22 = df['DHT22 (°C)']\n",
        "X_LM35 = df['LM35 (°C)']\n",
        "Y = df['Suhu Aktual(°C)']"
      ],
      "execution_count": null,
      "outputs": []
    },
    {
      "cell_type": "code",
      "metadata": {
        "id": "baL4CpSV5NA7",
        "colab": {
          "base_uri": "https://localhost:8080/",
          "height": 282
        },
        "outputId": "efff7051-29c3-4d58-a792-f1b0d866c3b7"
      },
      "source": [
        "rang = 23/len(Y)\n",
        "x = np.arange(16,39,rang)\n",
        "plt.plot(x, Y,  'r') #Actual temperature\n",
        "plt.plot(x,X_LM35, 'r', c= 'blue') #LM35\n",
        "plt.ylabel('Read Temperature (°C)')\n",
        "plt.xlabel('Temperature (°C)')\n",
        "plt.legend([\"Actual\", \"LM 35 after outlier removal\"], loc =\"lower right\")\n",
        "LM35_pict = plt.gcf()\n",
        "plt.show()\n",
        "LM35_pict.savefig('LM35 outlier removal vs Actual.png',dpi = 400)"
      ],
      "execution_count": null,
      "outputs": [
        {
          "output_type": "display_data",
          "data": {
            "image/png": "[encoded data removed]",
            "text/plain": [
              "<Figure size 432x288 with 1 Axes>"
            ]
          },
          "metadata": {
            "tags": [],
            "needs_background": "light"
          }
        }
      ]
    },
    {
      "cell_type": "code",
      "metadata": {
        "id": "0hEAZ3_1oiqm"
      },
      "source": [
        "X_DHT11S = df['ScaledD11']\n",
        "X_DHT22S = df['ScaledD22']\n",
        "X_LM35S = df['ScaledL']\n",
        "X_KDHT11S = df['ScaledKD11']\n",
        "X_KDHT22S = df['ScaledKD22']"
      ],
      "execution_count": null,
      "outputs": []
    },
    {
      "cell_type": "code",
      "metadata": {
        "id": "tcyjAlY97OPA",
        "colab": {
          "base_uri": "https://localhost:8080/"
        },
        "outputId": "48b153a5-b26b-4cc5-baba-9f558812317b"
      },
      "source": [
        "xscaled = df[['ScaledD11','ScaledD22','ScaledL','ScaledKD11','ScaledKD22','Suhu Aktual(°C)']]\n",
        "xscaled.iloc[1017,:]"
      ],
      "execution_count": null,
      "outputs": [
        {
          "output_type": "execute_result",
          "data": {
            "text/plain": [
              "ScaledD11           0.434174\n",
              "ScaledD22           0.535229\n",
              "ScaledL             0.915408\n",
              "ScaledKD11         -0.326087\n",
              "ScaledKD22         -0.617908\n",
              "Suhu Aktual(°C)    35.000000\n",
              "Name: 1020, dtype: float64"
            ]
          },
          "metadata": {
            "tags": []
          },
          "execution_count": 188
        }
      ]
    },
    {
      "cell_type": "code",
      "metadata": {
        "id": "ybF_lQAs713Y",
        "colab": {
          "base_uri": "https://localhost:8080/",
          "height": 202
        },
        "outputId": "ebc056ca-b547-4ac3-b848-6c7d970cb7e5"
      },
      "source": [
        "xs = xscaled.iloc[:,0:5]\n",
        "xs.head()"
      ],
      "execution_count": null,
      "outputs": [
        {
          "output_type": "execute_result",
          "data": {
            "text/html": [
              "<div>\n",
              "<style scoped>\n",
              "    .dataframe tbody tr th:only-of-type {\n",
              "        vertical-align: middle;\n",
              "    }\n",
              "\n",
              "    .dataframe tbody tr th {\n",
              "        vertical-align: top;\n",
              "    }\n",
              "\n",
              "    .dataframe thead th {\n",
              "        text-align: right;\n",
              "    }\n",
              "</style>\n",
              "<table border=\"1\" class=\"dataframe\">\n",
              "  <thead>\n",
              "    <tr style=\"text-align: right;\">\n",
              "      <th></th>\n",
              "      <th>ScaledD11</th>\n",
              "      <th>ScaledD22</th>\n",
              "      <th>ScaledL</th>\n",
              "      <th>ScaledKD11</th>\n",
              "      <th>ScaledKD22</th>\n",
              "    </tr>\n",
              "  </thead>\n",
              "  <tbody>\n",
              "    <tr>\n",
              "      <th>0</th>\n",
              "      <td>-1.430925</td>\n",
              "      <td>-1.581595</td>\n",
              "      <td>-1.378956</td>\n",
              "      <td>0.579381</td>\n",
              "      <td>1.228920</td>\n",
              "    </tr>\n",
              "    <tr>\n",
              "      <th>1</th>\n",
              "      <td>-1.430925</td>\n",
              "      <td>-1.581595</td>\n",
              "      <td>-1.494026</td>\n",
              "      <td>0.579381</td>\n",
              "      <td>1.223552</td>\n",
              "    </tr>\n",
              "    <tr>\n",
              "      <th>2</th>\n",
              "      <td>-1.430925</td>\n",
              "      <td>-1.581595</td>\n",
              "      <td>-1.494026</td>\n",
              "      <td>0.579381</td>\n",
              "      <td>1.228920</td>\n",
              "    </tr>\n",
              "    <tr>\n",
              "      <th>3</th>\n",
              "      <td>-1.430925</td>\n",
              "      <td>-1.581595</td>\n",
              "      <td>-1.494026</td>\n",
              "      <td>0.579381</td>\n",
              "      <td>1.234289</td>\n",
              "    </tr>\n",
              "    <tr>\n",
              "      <th>4</th>\n",
              "      <td>-1.430925</td>\n",
              "      <td>-1.581595</td>\n",
              "      <td>-1.494026</td>\n",
              "      <td>0.579381</td>\n",
              "      <td>1.239658</td>\n",
              "    </tr>\n",
              "  </tbody>\n",
              "</table>\n",
              "</div>"
            ],
            "text/plain": [
              "   ScaledD11  ScaledD22   ScaledL  ScaledKD11  ScaledKD22\n",
              "0  -1.430925  -1.581595 -1.378956    0.579381    1.228920\n",
              "1  -1.430925  -1.581595 -1.494026    0.579381    1.223552\n",
              "2  -1.430925  -1.581595 -1.494026    0.579381    1.228920\n",
              "3  -1.430925  -1.581595 -1.494026    0.579381    1.234289\n",
              "4  -1.430925  -1.581595 -1.494026    0.579381    1.239658"
            ]
          },
          "metadata": {
            "tags": []
          },
          "execution_count": 26
        }
      ]
    },
    {
      "cell_type": "code",
      "metadata": {
        "id": "PLZ4rUJ_8XkW",
        "colab": {
          "base_uri": "https://localhost:8080/"
        },
        "outputId": "721c6888-b3ee-492e-a7cb-227f9c49536d"
      },
      "source": [
        "ys = xscaled.iloc[:,5]\n",
        "ys.head()"
      ],
      "execution_count": null,
      "outputs": [
        {
          "output_type": "execute_result",
          "data": {
            "text/plain": [
              "0    16\n",
              "1    16\n",
              "2    16\n",
              "3    16\n",
              "4    16\n",
              "Name: Suhu Aktual(°C), dtype: int64"
            ]
          },
          "metadata": {
            "tags": []
          },
          "execution_count": 27
        }
      ]
    },
    {
      "cell_type": "code",
      "metadata": {
        "id": "N1wM2o006X3V"
      },
      "source": [
        "from sklearn.model_selection import StratifiedShuffleSplit\n",
        "sss = StratifiedShuffleSplit(n_splits=5, test_size=0.3, random_state=0)\n",
        "for train_index, test_index in sss.split(xs, ys):\n",
        "  print(\"TRAIN:\", train_index, \"TEST:\", test_index)\n",
        "  X_train, X_test = xs.iloc[train_index,:], xs.iloc[test_index,:]\n",
        "  y_train, y_test = ys.iloc[train_index], ys.iloc[test_index]"
      ],
      "execution_count": null,
      "outputs": []
    },
    {
      "cell_type": "code",
      "metadata": {
        "id": "fx2b3kciBO4e"
      },
      "source": [
        "xd11 = X_train[['ScaledD11','ScaledKD11']]\n",
        "xd22 = X_train[['ScaledD22','ScaledKD22']]\n",
        "xl = X_train['ScaledL']"
      ],
      "execution_count": null,
      "outputs": []
    },
    {
      "cell_type": "code",
      "metadata": {
        "id": "zRsu9FKyC2FM",
        "colab": {
          "base_uri": "https://localhost:8080/",
          "height": 202
        },
        "outputId": "5650767b-6ced-4d80-a466-f6cf3a68a746"
      },
      "source": [
        "xd22.head()"
      ],
      "execution_count": null,
      "outputs": [
        {
          "output_type": "execute_result",
          "data": {
            "text/html": [
              "<div>\n",
              "<style scoped>\n",
              "    .dataframe tbody tr th:only-of-type {\n",
              "        vertical-align: middle;\n",
              "    }\n",
              "\n",
              "    .dataframe tbody tr th {\n",
              "        vertical-align: top;\n",
              "    }\n",
              "\n",
              "    .dataframe thead th {\n",
              "        text-align: right;\n",
              "    }\n",
              "</style>\n",
              "<table border=\"1\" class=\"dataframe\">\n",
              "  <thead>\n",
              "    <tr style=\"text-align: right;\">\n",
              "      <th></th>\n",
              "      <th>ScaledD22</th>\n",
              "      <th>ScaledKD22</th>\n",
              "    </tr>\n",
              "  </thead>\n",
              "  <tbody>\n",
              "    <tr>\n",
              "      <th>893</th>\n",
              "      <td>0.387543</td>\n",
              "      <td>-0.451478</td>\n",
              "    </tr>\n",
              "    <tr>\n",
              "      <th>529</th>\n",
              "      <td>0.338315</td>\n",
              "      <td>-0.338736</td>\n",
              "    </tr>\n",
              "    <tr>\n",
              "      <th>4</th>\n",
              "      <td>-1.581595</td>\n",
              "      <td>1.239658</td>\n",
              "    </tr>\n",
              "    <tr>\n",
              "      <th>686</th>\n",
              "      <td>-0.067820</td>\n",
              "      <td>-0.145463</td>\n",
              "    </tr>\n",
              "    <tr>\n",
              "      <th>270</th>\n",
              "      <td>-1.163153</td>\n",
              "      <td>1.647678</td>\n",
              "    </tr>\n",
              "  </tbody>\n",
              "</table>\n",
              "</div>"
            ],
            "text/plain": [
              "     ScaledD22  ScaledKD22\n",
              "893   0.387543   -0.451478\n",
              "529   0.338315   -0.338736\n",
              "4    -1.581595    1.239658\n",
              "686  -0.067820   -0.145463\n",
              "270  -1.163153    1.647678"
            ]
          },
          "metadata": {
            "tags": []
          },
          "execution_count": 30
        }
      ]
    },
    {
      "cell_type": "code",
      "metadata": {
        "colab": {
          "base_uri": "https://localhost:8080/"
        },
        "id": "1IJIq1yGboYe",
        "outputId": "856342d8-3d49-4977-d5ea-8e683e90475e"
      },
      "source": [
        "y_train.head()"
      ],
      "execution_count": null,
      "outputs": [
        {
          "output_type": "execute_result",
          "data": {
            "text/plain": [
              "893    34\n",
              "529    30\n",
              "4      16\n",
              "686    31\n",
              "270    21\n",
              "Name: Suhu Aktual(°C), dtype: int64"
            ]
          },
          "metadata": {
            "tags": []
          },
          "execution_count": 31
        }
      ]
    },
    {
      "cell_type": "code",
      "metadata": {
        "id": "P2vEQY98CiVZ"
      },
      "source": [
        "xtd11 = X_test[['ScaledD11','ScaledKD11']]\n",
        "xtd22 = X_test[['ScaledD22','ScaledKD22']]\n",
        "xtl = X_test['ScaledL']"
      ],
      "execution_count": null,
      "outputs": []
    },
    {
      "cell_type": "code",
      "metadata": {
        "id": "Jd5vP_O4CyPa",
        "colab": {
          "base_uri": "https://localhost:8080/",
          "height": 202
        },
        "outputId": "596c719f-9edf-4e6c-f22f-f7306502d86b"
      },
      "source": [
        "xtd22.head()"
      ],
      "execution_count": null,
      "outputs": [
        {
          "output_type": "execute_result",
          "data": {
            "text/html": [
              "<div>\n",
              "<style scoped>\n",
              "    .dataframe tbody tr th:only-of-type {\n",
              "        vertical-align: middle;\n",
              "    }\n",
              "\n",
              "    .dataframe tbody tr th {\n",
              "        vertical-align: top;\n",
              "    }\n",
              "\n",
              "    .dataframe thead th {\n",
              "        text-align: right;\n",
              "    }\n",
              "</style>\n",
              "<table border=\"1\" class=\"dataframe\">\n",
              "  <thead>\n",
              "    <tr style=\"text-align: right;\">\n",
              "      <th></th>\n",
              "      <th>ScaledD22</th>\n",
              "      <th>ScaledKD22</th>\n",
              "    </tr>\n",
              "  </thead>\n",
              "  <tbody>\n",
              "    <tr>\n",
              "      <th>1017</th>\n",
              "      <td>0.535229</td>\n",
              "      <td>-0.617908</td>\n",
              "    </tr>\n",
              "    <tr>\n",
              "      <th>598</th>\n",
              "      <td>0.375236</td>\n",
              "      <td>-0.365579</td>\n",
              "    </tr>\n",
              "    <tr>\n",
              "      <th>606</th>\n",
              "      <td>0.375236</td>\n",
              "      <td>-0.360211</td>\n",
              "    </tr>\n",
              "    <tr>\n",
              "      <th>160</th>\n",
              "      <td>-1.175460</td>\n",
              "      <td>1.411456</td>\n",
              "    </tr>\n",
              "    <tr>\n",
              "      <th>25</th>\n",
              "      <td>-1.569288</td>\n",
              "      <td>1.223552</td>\n",
              "    </tr>\n",
              "  </tbody>\n",
              "</table>\n",
              "</div>"
            ],
            "text/plain": [
              "      ScaledD22  ScaledKD22\n",
              "1017   0.535229   -0.617908\n",
              "598    0.375236   -0.365579\n",
              "606    0.375236   -0.360211\n",
              "160   -1.175460    1.411456\n",
              "25    -1.569288    1.223552"
            ]
          },
          "metadata": {
            "tags": []
          },
          "execution_count": 33
        }
      ]
    },
    {
      "cell_type": "code",
      "metadata": {
        "colab": {
          "base_uri": "https://localhost:8080/"
        },
        "id": "53f4y8BqaULT",
        "outputId": "410def75-596c-4e87-852b-59f3229f647c"
      },
      "source": [
        "xtl.head()"
      ],
      "execution_count": null,
      "outputs": [
        {
          "output_type": "execute_result",
          "data": {
            "text/plain": [
              "1017    0.915408\n",
              "598    -0.117877\n",
              "606     0.227334\n",
              "160    -1.494026\n",
              "25     -1.494026\n",
              "Name: ScaledL, dtype: float64"
            ]
          },
          "metadata": {
            "tags": []
          },
          "execution_count": 187
        }
      ]
    },
    {
      "cell_type": "code",
      "metadata": {
        "id": "vwYDPsNZFWRh",
        "colab": {
          "base_uri": "https://localhost:8080/"
        },
        "outputId": "82aac931-00c2-4b09-9439-e923bbb6637b"
      },
      "source": [
        "y_test.head()"
      ],
      "execution_count": null,
      "outputs": [
        {
          "output_type": "execute_result",
          "data": {
            "text/plain": [
              "1017    35\n",
              "598     30\n",
              "606     30\n",
              "160     18\n",
              "25      16\n",
              "Name: Suhu Aktual(°C), dtype: int64"
            ]
          },
          "metadata": {
            "tags": []
          },
          "execution_count": 34
        }
      ]
    },
    {
      "cell_type": "code",
      "metadata": {
        "id": "lruUr6FOE42t"
      },
      "source": [
        "from keras.models import Sequential\n",
        "from keras.layers import Dense\n",
        "from keras.wrappers.scikit_learn import KerasRegressor\n",
        "from sklearn.model_selection import cross_val_score\n",
        "from sklearn.model_selection import KFold\n",
        "from sklearn.preprocessing import StandardScaler\n",
        "from sklearn.pipeline import Pipeline"
      ],
      "execution_count": null,
      "outputs": []
    },
    {
      "cell_type": "code",
      "metadata": {
        "id": "0VaJLYF1E42v"
      },
      "source": [
        "def baseline_model():\n",
        "# create model\n",
        "    model = Sequential()\n",
        "    model.add(Dense(15,input_shape = (2,),kernel_initializer='normal', activation='sigmoid'))\n",
        "    model.add(Dense(1, kernel_initializer='normal'))\n",
        "    # Compile model\n",
        "    model.compile(loss='mean_squared_error', optimizer='adam')\n",
        "    return model"
      ],
      "execution_count": null,
      "outputs": []
    },
    {
      "cell_type": "code",
      "metadata": {
        "id": "lEG_xDeINrHf"
      },
      "source": [
        "def baseline_model_l():\n",
        "# create model\n",
        "    model = Sequential()\n",
        "    model.add(Dense(15,input_shape = (1,),kernel_initializer='normal', activation='sigmoid'))\n",
        "    model.add(Dense(1, kernel_initializer='normal'))\n",
        "    # Compile model\n",
        "    model.compile(loss='mean_squared_error', optimizer='adam')\n",
        "    return model"
      ],
      "execution_count": null,
      "outputs": []
    },
    {
      "cell_type": "code",
      "metadata": {
        "id": "Q4JSgCjFE42x"
      },
      "source": [
        "estimator = KerasRegressor(build_fn=baseline_model, epochs=10, batch_size=5, verbose=0)"
      ],
      "execution_count": null,
      "outputs": []
    },
    {
      "cell_type": "code",
      "metadata": {
        "id": "CMStOltmNyZC"
      },
      "source": [
        "estimator_l = KerasRegressor(build_fn=baseline_model_l, epochs=10, batch_size=5, verbose=0)"
      ],
      "execution_count": null,
      "outputs": []
    },
    {
      "cell_type": "code",
      "metadata": {
        "id": "K3XcvcwsE42z"
      },
      "source": [
        "from sklearn.model_selection import GridSearchCV"
      ],
      "execution_count": null,
      "outputs": []
    },
    {
      "cell_type": "code",
      "metadata": {
        "id": "B8DZDAJgK-Z_"
      },
      "source": [
        "param = {'epochs':[50,100,200,300,400,500],'batch_size':[5,10,20]}"
      ],
      "execution_count": null,
      "outputs": []
    },
    {
      "cell_type": "code",
      "metadata": {
        "id": "gSZhJGX3wX1T"
      },
      "source": [
        "from sklearn.metrics import r2_score, mean_squared_error, make_scorer\n",
        "def MSE(y_true,y_pred):\n",
        "    mse = -(mean_squared_error(y_true, y_pred))\n",
        "    print ('MSE: %2.3f' % mse)\n",
        "    return mse\n",
        "\n",
        "def R2(y_true,y_pred):    \n",
        "     r2 = r2_score(y_true, y_pred)\n",
        "     print ('R2: %2.3f' % r2)\n",
        "     return r2\n",
        "\n",
        "def two_score(y_true,y_pred):    \n",
        "    MSE(y_true,y_pred) #set score here and not below if using MSE in GridCV\n",
        "    score = R2(y_true,y_pred)\n",
        "    return score\n",
        "\n",
        "def two_scorer():\n",
        "    return make_scorer(two_score, greater_is_better=True)"
      ],
      "execution_count": null,
      "outputs": []
    },
    {
      "cell_type": "code",
      "metadata": {
        "id": "Te4amQS8o_GG",
        "colab": {
          "base_uri": "https://localhost:8080/"
        },
        "outputId": "c893866d-817d-422e-88c2-35053f8cf002"
      },
      "source": [
        "annrs = GridSearchCV(estimator_l, param,scoring=two_scorer(),n_jobs=-1,cv=10)\n",
        "annrs.fit(xl,y_train)"
      ],
      "execution_count": null,
      "outputs": [
        {
          "output_type": "execute_result",
          "data": {
            "text/plain": [
              "GridSearchCV(cv=10, error_score=nan,\n",
              "             estimator=<tensorflow.python.keras.wrappers.scikit_learn.KerasRegressor object at 0x7f34c8ea50f0>,\n",
              "             iid='deprecated', n_jobs=-1,\n",
              "             param_grid={'batch_size': [5, 10, 20],\n",
              "                         'epochs': [50, 100, 200, 300, 400, 500]},\n",
              "             pre_dispatch='2*n_jobs', refit=True, return_train_score=False,\n",
              "             scoring=make_scorer(two_score), verbose=0)"
            ]
          },
          "metadata": {
            "tags": []
          },
          "execution_count": 168
        }
      ]
    },
    {
      "cell_type": "code",
      "metadata": {
        "id": "jMKloQCb0S3k",
        "colab": {
          "base_uri": "https://localhost:8080/"
        },
        "outputId": "ae72e488-de37-43a9-bb10-f198f18d0346"
      },
      "source": [
        "best_params = annrs.best_params_\n",
        "model = annrs.best_estimator_\n",
        "score = annrs.best_score_\n",
        "print ('%s\\tHP\\t%s\\t%f' % (\"R\" , str(best_params) ,abs(score)))"
      ],
      "execution_count": null,
      "outputs": [
        {
          "output_type": "stream",
          "text": [
            "R\tHP\t{'batch_size': 5, 'epochs': 500}\t0.962670\n"
          ],
          "name": "stdout"
        }
      ]
    },
    {
      "cell_type": "code",
      "metadata": {
        "id": "Nr2eQj6UrTnr"
      },
      "source": [
        "est = KerasRegressor(build_fn=baseline_model_l, epochs=500, batch_size=5, verbose=0)"
      ],
      "execution_count": null,
      "outputs": []
    },
    {
      "cell_type": "code",
      "metadata": {
        "id": "aGer6iN6E-7x",
        "colab": {
          "base_uri": "https://localhost:8080/"
        },
        "outputId": "83e9b71b-4031-48b5-a910-517732b4d3f8"
      },
      "source": [
        "est.fit(xl,y_train, batch_size = 5, epochs = 500)"
      ],
      "execution_count": null,
      "outputs": [
        {
          "output_type": "execute_result",
          "data": {
            "text/plain": [
              "<tensorflow.python.keras.callbacks.History at 0x7f34c6a66198>"
            ]
          },
          "metadata": {
            "tags": []
          },
          "execution_count": 191
        }
      ]
    },
    {
      "cell_type": "code",
      "metadata": {
        "id": "X_EPaGtGsDIB",
        "colab": {
          "base_uri": "https://localhost:8080/"
        },
        "outputId": "17eca14b-80ea-4356-da7a-ee60b42d723e"
      },
      "source": [
        "est.model.save_weights(\"model lm35 2.h5\")\n",
        "print(\"Saved model to disk\")"
      ],
      "execution_count": null,
      "outputs": [
        {
          "output_type": "stream",
          "text": [
            "Saved model to disk\n"
          ],
          "name": "stdout"
        }
      ]
    },
    {
      "cell_type": "code",
      "metadata": {
        "colab": {
          "base_uri": "https://localhost:8080/"
        },
        "id": "HoK_hlRr-OEE",
        "outputId": "1b34e119-9454-46be-a530-3e1b4888ea17"
      },
      "source": [
        "y_test.sort_values(ascending=True,inplace=True)\n",
        "y_test"
      ],
      "execution_count": null,
      "outputs": [
        {
          "output_type": "execute_result",
          "data": {
            "text/plain": [
              "102     16\n",
              "62      16\n",
              "91      16\n",
              "42      16\n",
              "96      16\n",
              "        ..\n",
              "1206    39\n",
              "1128    39\n",
              "1202    39\n",
              "1178    39\n",
              "1132    39\n",
              "Name: Suhu Aktual(°C), Length: 367, dtype: int64"
            ]
          },
          "metadata": {
            "tags": []
          },
          "execution_count": 90
        }
      ]
    },
    {
      "cell_type": "code",
      "metadata": {
        "id": "shGvD7FrFHzu"
      },
      "source": [
        "y_pred = est.predict(xtl)"
      ],
      "execution_count": null,
      "outputs": []
    },
    {
      "cell_type": "code",
      "metadata": {
        "colab": {
          "base_uri": "https://localhost:8080/",
          "height": 202
        },
        "id": "vJU-T1oQY5p9",
        "outputId": "bfd1c845-4a65-4810-aec5-d20b3f4f0906"
      },
      "source": [
        "y_pred_df = pd.DataFrame(data=y_pred,index=xtd11.index)\n",
        "y_pred_df.head()"
      ],
      "execution_count": null,
      "outputs": [
        {
          "output_type": "execute_result",
          "data": {
            "text/html": [
              "<div>\n",
              "<style scoped>\n",
              "    .dataframe tbody tr th:only-of-type {\n",
              "        vertical-align: middle;\n",
              "    }\n",
              "\n",
              "    .dataframe tbody tr th {\n",
              "        vertical-align: top;\n",
              "    }\n",
              "\n",
              "    .dataframe thead th {\n",
              "        text-align: right;\n",
              "    }\n",
              "</style>\n",
              "<table border=\"1\" class=\"dataframe\">\n",
              "  <thead>\n",
              "    <tr style=\"text-align: right;\">\n",
              "      <th></th>\n",
              "      <th>0</th>\n",
              "    </tr>\n",
              "  </thead>\n",
              "  <tbody>\n",
              "    <tr>\n",
              "      <th>1017</th>\n",
              "      <td>35.412464</td>\n",
              "    </tr>\n",
              "    <tr>\n",
              "      <th>598</th>\n",
              "      <td>29.628963</td>\n",
              "    </tr>\n",
              "    <tr>\n",
              "      <th>606</th>\n",
              "      <td>31.901360</td>\n",
              "    </tr>\n",
              "    <tr>\n",
              "      <th>160</th>\n",
              "      <td>17.454868</td>\n",
              "    </tr>\n",
              "    <tr>\n",
              "      <th>25</th>\n",
              "      <td>17.454868</td>\n",
              "    </tr>\n",
              "  </tbody>\n",
              "</table>\n",
              "</div>"
            ],
            "text/plain": [
              "              0\n",
              "1017  35.412464\n",
              "598   29.628963\n",
              "606   31.901360\n",
              "160   17.454868\n",
              "25    17.454868"
            ]
          },
          "metadata": {
            "tags": []
          },
          "execution_count": 196
        }
      ]
    },
    {
      "cell_type": "code",
      "metadata": {
        "colab": {
          "base_uri": "https://localhost:8080/",
          "height": 202
        },
        "id": "97EJf2rGbxck",
        "outputId": "f44c77b3-1284-4925-df7e-77dc4a7853f1"
      },
      "source": [
        "y_pred_df = y_pred_df.loc[y_test.index]\n",
        "y_pred_df.head()"
      ],
      "execution_count": null,
      "outputs": [
        {
          "output_type": "execute_result",
          "data": {
            "text/html": [
              "<div>\n",
              "<style scoped>\n",
              "    .dataframe tbody tr th:only-of-type {\n",
              "        vertical-align: middle;\n",
              "    }\n",
              "\n",
              "    .dataframe tbody tr th {\n",
              "        vertical-align: top;\n",
              "    }\n",
              "\n",
              "    .dataframe thead th {\n",
              "        text-align: right;\n",
              "    }\n",
              "</style>\n",
              "<table border=\"1\" class=\"dataframe\">\n",
              "  <thead>\n",
              "    <tr style=\"text-align: right;\">\n",
              "      <th></th>\n",
              "      <th>0</th>\n",
              "    </tr>\n",
              "  </thead>\n",
              "  <tbody>\n",
              "    <tr>\n",
              "      <th>102</th>\n",
              "      <td>19.649925</td>\n",
              "    </tr>\n",
              "    <tr>\n",
              "      <th>62</th>\n",
              "      <td>17.454868</td>\n",
              "    </tr>\n",
              "    <tr>\n",
              "      <th>91</th>\n",
              "      <td>20.757629</td>\n",
              "    </tr>\n",
              "    <tr>\n",
              "      <th>42</th>\n",
              "      <td>17.454868</td>\n",
              "    </tr>\n",
              "    <tr>\n",
              "      <th>96</th>\n",
              "      <td>19.649925</td>\n",
              "    </tr>\n",
              "  </tbody>\n",
              "</table>\n",
              "</div>"
            ],
            "text/plain": [
              "             0\n",
              "102  19.649925\n",
              "62   17.454868\n",
              "91   20.757629\n",
              "42   17.454868\n",
              "96   19.649925"
            ]
          },
          "metadata": {
            "tags": []
          },
          "execution_count": 197
        }
      ]
    },
    {
      "cell_type": "code",
      "metadata": {
        "id": "yV0xyVx3FLyB",
        "colab": {
          "base_uri": "https://localhost:8080/"
        },
        "outputId": "4f6fa908-f3a3-41f2-ff15-4607142d8e1e"
      },
      "source": [
        "mse(y_test,y_pred_df.values)"
      ],
      "execution_count": null,
      "outputs": [
        {
          "output_type": "execute_result",
          "data": {
            "text/plain": [
              "1.8068414170525213"
            ]
          },
          "metadata": {
            "tags": []
          },
          "execution_count": 204
        }
      ]
    },
    {
      "cell_type": "code",
      "metadata": {
        "id": "K0ch7wkMF1al",
        "colab": {
          "base_uri": "https://localhost:8080/"
        },
        "outputId": "c6073983-58cc-4d3e-b519-febc39fca669"
      },
      "source": [
        "r2_score(y_test, y_pred_df.values)"
      ],
      "execution_count": null,
      "outputs": [
        {
          "output_type": "execute_result",
          "data": {
            "text/plain": [
              "0.9637102410769068"
            ]
          },
          "metadata": {
            "tags": []
          },
          "execution_count": 200
        }
      ]
    },
    {
      "cell_type": "code",
      "metadata": {
        "id": "YszjnXA6FirH",
        "colab": {
          "base_uri": "https://localhost:8080/",
          "height": 295
        },
        "outputId": "9a813eee-85c5-4e98-e112-2fd5bb7102fa"
      },
      "source": [
        "plt.plot(xt,y_test, color = 'red')\n",
        "plt.plot(xt,y_pred_df.values, color = 'blue')\n",
        "plt.title('Prediction')\n",
        "plt.ylabel('Read Temperature (°C)')\n",
        "plt.xlabel('Temperature (°C)')\n",
        "plt.legend([\"Actual\", \"LM35 with ANN\"], loc =\"lower right\")\n",
        "LM35_ann = plt.gcf()\n",
        "plt.show()\n",
        "LM35_ann.savefig('LM35 ANN vs Actual.png',dpi = 400)"
      ],
      "execution_count": null,
      "outputs": [
        {
          "output_type": "display_data",
          "data": {
            "image/png": "[encoded data removed]",
            "text/plain": [
              "<Figure size 432x288 with 1 Axes>"
            ]
          },
          "metadata": {
            "tags": [],
            "needs_background": "light"
          }
        }
      ]
    },
    {
      "cell_type": "code",
      "metadata": {
        "colab": {
          "base_uri": "https://localhost:8080/"
        },
        "id": "rNluT3W5Tj0C",
        "outputId": "a8cb7f8d-70d2-42e8-ea49-52c017991624"
      },
      "source": [
        "ep = np.arange(50,501,50)\n",
        "ep"
      ],
      "execution_count": null,
      "outputs": [
        {
          "output_type": "execute_result",
          "data": {
            "text/plain": [
              "array([ 50, 100, 150, 200, 250, 300, 350, 400, 450, 500])"
            ]
          },
          "metadata": {
            "tags": []
          },
          "execution_count": 223
        }
      ]
    },
    {
      "cell_type": "code",
      "metadata": {
        "id": "OWfZtW-9cIbz"
      },
      "source": [
        "mse_ = []\n",
        "r2_ = []\n",
        "for num in ep:\n",
        "  est.fit(xl,y_train, batch_size = 5, epochs = num)\n",
        "  y_pred_ = est.predict(xtl)\n",
        "  y_pred_df_ = pd.DataFrame(data=y_pred_,index=xtd11.index)\n",
        "  y_pred_df_ = y_pred_df_.loc[y_test.index]\n",
        "  mse_.append(mse(y_test,y_pred_df_.values))\n",
        "  r2_.append(r2_score(y_test, y_pred_df_.values))"
      ],
      "execution_count": null,
      "outputs": []
    },
    {
      "cell_type": "code",
      "metadata": {
        "colab": {
          "base_uri": "https://localhost:8080/",
          "height": 295
        },
        "id": "mX0OwmPvfDN2",
        "outputId": "f32c1ec9-6476-4d12-d7a3-b447420c5ff7"
      },
      "source": [
        "plt.plot(ep,mse_, color = 'red')\n",
        "plt.title('MSE vs Epoch')\n",
        "plt.ylabel('Mean Square Error')\n",
        "plt.xlabel('Number of Epoch')\n",
        "LM35_MSE = plt.gcf()\n",
        "plt.show()\n",
        "LM35_MSE.savefig('MSE vs Epoch.png',dpi = 400)"
      ],
      "execution_count": null,
      "outputs": [
        {
          "output_type": "display_data",
          "data": {
            "image/png": "[encoded data removed]",
            "text/plain": [
              "<Figure size 432x288 with 1 Axes>"
            ]
          },
          "metadata": {
            "tags": [],
            "needs_background": "light"
          }
        }
      ]
    },
    {
      "cell_type": "code",
      "metadata": {
        "colab": {
          "base_uri": "https://localhost:8080/"
        },
        "id": "CKde5fYtxF3E",
        "outputId": "e35490ba-520f-4d41-87ef-53ffcc631ed8"
      },
      "source": [
        "bt = np.arange(5,20,5)\n",
        "bt"
      ],
      "execution_count": null,
      "outputs": [
        {
          "output_type": "execute_result",
          "data": {
            "text/plain": [
              "array([ 5, 10, 15])"
            ]
          },
          "metadata": {
            "tags": []
          },
          "execution_count": 233
        }
      ]
    },
    {
      "cell_type": "code",
      "metadata": {
        "id": "a2n6TIYnxBiP"
      },
      "source": [
        "mseb_ = []\n",
        "r2b_ = []\n",
        "for num in bt:\n",
        "  est.fit(xl,y_train, batch_size = num, epochs = 500)\n",
        "  y_pred_ = est.predict(xtl)\n",
        "  y_pred_df_ = pd.DataFrame(data=y_pred_,index=xtd11.index)\n",
        "  y_pred_df_ = y_pred_df_.loc[y_test.index]\n",
        "  mseb_.append(mse(y_test,y_pred_df_.values))\n",
        "  r2b_.append(r2_score(y_test, y_pred_df_.values))"
      ],
      "execution_count": null,
      "outputs": []
    },
    {
      "cell_type": "code",
      "metadata": {
        "colab": {
          "base_uri": "https://localhost:8080/",
          "height": 295
        },
        "id": "28Jcv0vZxXuH",
        "outputId": "bc0513fd-f1c4-4400-b1e9-81b724c07945"
      },
      "source": [
        "plt.plot(bt,mseb_, color = 'red')\n",
        "plt.title('MSE vs Batch Size')\n",
        "plt.ylabel('Mean Square Error')\n",
        "plt.xlabel('Number of Batch Size')\n",
        "LM35_MSE = plt.gcf()\n",
        "plt.show()\n",
        "LM35_MSE.savefig('MSE vs Batch LM35.png',dpi = 400)"
      ],
      "execution_count": null,
      "outputs": [
        {
          "output_type": "display_data",
          "data": {
            "image/png": "[encoded data removed]",
            "text/plain": [
              "<Figure size 432x288 with 1 Axes>"
            ]
          },
          "metadata": {
            "tags": [],
            "needs_background": "light"
          }
        }
      ]
    },
    {
      "cell_type": "code",
      "metadata": {
        "id": "UxPwStpJFyLf",
        "colab": {
          "base_uri": "https://localhost:8080/"
        },
        "outputId": "18d7524c-449a-48bf-903d-4bd681c48a1f"
      },
      "source": [
        "annr1 = GridSearchCV(estimator, param,scoring=two_scorer(),n_jobs=-1,cv=10)\n",
        "annr1.fit(xd22,y_train)"
      ],
      "execution_count": null,
      "outputs": [
        {
          "output_type": "execute_result",
          "data": {
            "text/plain": [
              "GridSearchCV(cv=10, error_score=nan,\n",
              "             estimator=<tensorflow.python.keras.wrappers.scikit_learn.KerasRegressor object at 0x7f9242d5e780>,\n",
              "             iid='deprecated', n_jobs=-1,\n",
              "             param_grid={'batch_size': [5, 10, 20],\n",
              "                         'epochs': [50, 100, 200, 300, 400, 500]},\n",
              "             pre_dispatch='2*n_jobs', refit=True, return_train_score=False,\n",
              "             scoring=make_scorer(two_score), verbose=0)"
            ]
          },
          "metadata": {
            "tags": []
          },
          "execution_count": 95
        }
      ]
    },
    {
      "cell_type": "code",
      "metadata": {
        "id": "p2BmxJg5GKVn",
        "colab": {
          "base_uri": "https://localhost:8080/"
        },
        "outputId": "f21cbb4d-6f1a-4ba1-b5a5-a2668a8a9619"
      },
      "source": [
        "best_params = annr1.best_params_\n",
        "model = annr1.best_estimator_\n",
        "score = annr1.best_score_\n",
        "print ('%s\\tHP\\t%s\\t%f' % (\"R\" , str(best_params) ,abs(score)))"
      ],
      "execution_count": null,
      "outputs": [
        {
          "output_type": "stream",
          "text": [
            "R\tHP\t{'batch_size': 5, 'epochs': 500}\t0.961990\n"
          ],
          "name": "stdout"
        }
      ]
    },
    {
      "cell_type": "code",
      "metadata": {
        "id": "_g_FdwjsGQoI"
      },
      "source": [
        "est1 = KerasRegressor(build_fn=baseline_model, epochs=500, batch_size=5, verbose=0)"
      ],
      "execution_count": null,
      "outputs": []
    },
    {
      "cell_type": "code",
      "metadata": {
        "id": "wukZ6JhqGaxE",
        "colab": {
          "base_uri": "https://localhost:8080/"
        },
        "outputId": "1d1812aa-52fe-4f8d-9045-3d56a23dd6b4"
      },
      "source": [
        "est1.fit(xd22,y_train, batch_size = 5, epochs = 500)"
      ],
      "execution_count": null,
      "outputs": [
        {
          "output_type": "execute_result",
          "data": {
            "text/plain": [
              "<tensorflow.python.keras.callbacks.History at 0x7f34da5381d0>"
            ]
          },
          "metadata": {
            "tags": []
          },
          "execution_count": 44
        }
      ]
    },
    {
      "cell_type": "code",
      "metadata": {
        "id": "I4U26EJjsNmv",
        "colab": {
          "base_uri": "https://localhost:8080/"
        },
        "outputId": "2f67fc07-dde6-481a-b817-dd99c5cc98fd"
      },
      "source": [
        "est1.model.save_weights(\"model dht22 2.h5\")\n",
        "print(\"Saved model to disk\")"
      ],
      "execution_count": null,
      "outputs": [
        {
          "output_type": "stream",
          "text": [
            "Saved model to disk\n"
          ],
          "name": "stdout"
        }
      ]
    },
    {
      "cell_type": "code",
      "metadata": {
        "id": "rWqcIY1QGdx5"
      },
      "source": [
        "y_pred1 = est1.predict(xtd22)"
      ],
      "execution_count": null,
      "outputs": []
    },
    {
      "cell_type": "code",
      "metadata": {
        "id": "bp5W9maB_B0L"
      },
      "source": [
        "y_pred1_df = pd.DataFrame(data=y_pred1,index=xtd11.index)"
      ],
      "execution_count": null,
      "outputs": []
    },
    {
      "cell_type": "code",
      "metadata": {
        "id": "yd6YurYCBNk2"
      },
      "source": [
        "y_pred1_df = y_pred1_df.loc[y_test.index]"
      ],
      "execution_count": null,
      "outputs": []
    },
    {
      "cell_type": "code",
      "metadata": {
        "colab": {
          "base_uri": "https://localhost:8080/",
          "height": 415
        },
        "id": "KkWCVqTDCrCO",
        "outputId": "52205d0d-369e-4669-e813-b19e7a58d2be"
      },
      "source": [
        "y_pred1_df"
      ],
      "execution_count": null,
      "outputs": [
        {
          "output_type": "execute_result",
          "data": {
            "text/html": [
              "<div>\n",
              "<style scoped>\n",
              "    .dataframe tbody tr th:only-of-type {\n",
              "        vertical-align: middle;\n",
              "    }\n",
              "\n",
              "    .dataframe tbody tr th {\n",
              "        vertical-align: top;\n",
              "    }\n",
              "\n",
              "    .dataframe thead th {\n",
              "        text-align: right;\n",
              "    }\n",
              "</style>\n",
              "<table border=\"1\" class=\"dataframe\">\n",
              "  <thead>\n",
              "    <tr style=\"text-align: right;\">\n",
              "      <th></th>\n",
              "      <th>0</th>\n",
              "    </tr>\n",
              "  </thead>\n",
              "  <tbody>\n",
              "    <tr>\n",
              "      <th>102</th>\n",
              "      <td>16.826632</td>\n",
              "    </tr>\n",
              "    <tr>\n",
              "      <th>62</th>\n",
              "      <td>15.983195</td>\n",
              "    </tr>\n",
              "    <tr>\n",
              "      <th>91</th>\n",
              "      <td>16.674475</td>\n",
              "    </tr>\n",
              "    <tr>\n",
              "      <th>42</th>\n",
              "      <td>15.831119</td>\n",
              "    </tr>\n",
              "    <tr>\n",
              "      <th>96</th>\n",
              "      <td>16.823013</td>\n",
              "    </tr>\n",
              "    <tr>\n",
              "      <th>...</th>\n",
              "      <td>...</td>\n",
              "    </tr>\n",
              "    <tr>\n",
              "      <th>1206</th>\n",
              "      <td>39.229099</td>\n",
              "    </tr>\n",
              "    <tr>\n",
              "      <th>1128</th>\n",
              "      <td>38.977428</td>\n",
              "    </tr>\n",
              "    <tr>\n",
              "      <th>1202</th>\n",
              "      <td>39.229099</td>\n",
              "    </tr>\n",
              "    <tr>\n",
              "      <th>1178</th>\n",
              "      <td>39.217922</td>\n",
              "    </tr>\n",
              "    <tr>\n",
              "      <th>1132</th>\n",
              "      <td>38.949860</td>\n",
              "    </tr>\n",
              "  </tbody>\n",
              "</table>\n",
              "<p>367 rows × 1 columns</p>\n",
              "</div>"
            ],
            "text/plain": [
              "              0\n",
              "102   16.826632\n",
              "62    15.983195\n",
              "91    16.674475\n",
              "42    15.831119\n",
              "96    16.823013\n",
              "...         ...\n",
              "1206  39.229099\n",
              "1128  38.977428\n",
              "1202  39.229099\n",
              "1178  39.217922\n",
              "1132  38.949860\n",
              "\n",
              "[367 rows x 1 columns]"
            ]
          },
          "metadata": {
            "tags": []
          },
          "execution_count": 119
        }
      ]
    },
    {
      "cell_type": "code",
      "metadata": {
        "id": "vx7yTdv3t2ir"
      },
      "source": [
        "rang = 23/len(y_test)\n",
        "xt = np.arange(16,39,rang)"
      ],
      "execution_count": null,
      "outputs": []
    },
    {
      "cell_type": "code",
      "metadata": {
        "id": "rvNUcUJyGhpu",
        "colab": {
          "base_uri": "https://localhost:8080/",
          "height": 295
        },
        "outputId": "60aed1ca-16f6-4419-abcf-53249724b88a"
      },
      "source": [
        "plt.plot(xt,y_test, color = 'red')\n",
        "plt.plot(xt,y_pred1_df.values, color = 'blue')\n",
        "plt.title('Prediction')\n",
        "plt.ylabel('Read Temperature (°C)')\n",
        "plt.xlabel('Temperature (°C)')\n",
        "plt.legend([\"Actual\", \"DHT22 with ANN\"], loc =\"lower right\")\n",
        "LM35_ann = plt.gcf()\n",
        "plt.show()\n",
        "LM35_ann.savefig('DHT22 ANN vs Actual.png',dpi = 400)"
      ],
      "execution_count": null,
      "outputs": [
        {
          "output_type": "display_data",
          "data": {
            "image/png": "[encoded data removed]",
            "text/plain": [
              "<Figure size 432x288 with 1 Axes>"
            ]
          },
          "metadata": {
            "tags": [],
            "needs_background": "light"
          }
        }
      ]
    },
    {
      "cell_type": "code",
      "metadata": {
        "id": "TnJQMOtGGtfs",
        "colab": {
          "base_uri": "https://localhost:8080/"
        },
        "outputId": "f9abe788-9943-4ed5-d965-375cb9ad9a7d"
      },
      "source": [
        "mse(y_test,y_pred1_df.values)"
      ],
      "execution_count": null,
      "outputs": [
        {
          "output_type": "execute_result",
          "data": {
            "text/plain": [
              "1.828293595190764"
            ]
          },
          "metadata": {
            "tags": []
          },
          "execution_count": 125
        }
      ]
    },
    {
      "cell_type": "code",
      "metadata": {
        "id": "RTt0Xk1uZ-jY",
        "colab": {
          "base_uri": "https://localhost:8080/"
        },
        "outputId": "269bd23e-5b90-4cda-d1d6-2e395ff31645"
      },
      "source": [
        "r2_score(y_test,y_pred1_df.values)"
      ],
      "execution_count": null,
      "outputs": [
        {
          "output_type": "execute_result",
          "data": {
            "text/plain": [
              "0.9632793818074299"
            ]
          },
          "metadata": {
            "tags": []
          },
          "execution_count": 124
        }
      ]
    },
    {
      "cell_type": "code",
      "metadata": {
        "id": "bq-UEDLDhhx5"
      },
      "source": [
        "mse1_ = []\n",
        "r21_ = []\n",
        "for num in ep:\n",
        "  est1.fit(xd22,y_train, batch_size = 5, epochs = num)\n",
        "  y_pred_ = est1.predict(xtd22)\n",
        "  y_pred_df_ = pd.DataFrame(data=y_pred_,index=xtd11.index)\n",
        "  y_pred_df_ = y_pred_df_.loc[y_test.index]\n",
        "  mse1_.append(mse(y_test,y_pred_df_.values))\n",
        "  r21_.append(r2_score(y_test, y_pred_df_.values))"
      ],
      "execution_count": null,
      "outputs": []
    },
    {
      "cell_type": "code",
      "metadata": {
        "colab": {
          "base_uri": "https://localhost:8080/",
          "height": 295
        },
        "id": "EHnTzUPZhrXF",
        "outputId": "268feb13-f470-4a27-9dfa-fbccb7ea89f4"
      },
      "source": [
        "plt.plot(ep,mse1_, color = 'red')\n",
        "plt.title('MSE vs Epoch')\n",
        "plt.ylabel('Mean Square Error')\n",
        "plt.xlabel('Number of Epoch')\n",
        "LM35_MSE = plt.gcf()\n",
        "plt.show()\n",
        "LM35_MSE.savefig('MSE vs Epoch DHT22.png',dpi = 400)"
      ],
      "execution_count": null,
      "outputs": [
        {
          "output_type": "display_data",
          "data": {
            "image/png": "[encoded data removed]",
            "text/plain": [
              "<Figure size 432x288 with 1 Axes>"
            ]
          },
          "metadata": {
            "tags": [],
            "needs_background": "light"
          }
        }
      ]
    },
    {
      "cell_type": "code",
      "metadata": {
        "id": "7F7XxCK5xqYN"
      },
      "source": [
        "mse1b_ = []\n",
        "r21b_ = []\n",
        "for num in bt:\n",
        "  est1.fit(xd22,y_train, batch_size = num, epochs = 500)\n",
        "  y_pred_ = est1.predict(xtd22)\n",
        "  y_pred_df_ = pd.DataFrame(data=y_pred_,index=xtd11.index)\n",
        "  y_pred_df_ = y_pred_df_.loc[y_test.index]\n",
        "  mse1b_.append(mse(y_test,y_pred_df_.values))\n",
        "  r21b_.append(r2_score(y_test, y_pred_df_.values))"
      ],
      "execution_count": null,
      "outputs": []
    },
    {
      "cell_type": "code",
      "metadata": {
        "colab": {
          "base_uri": "https://localhost:8080/",
          "height": 295
        },
        "id": "qRt7Kh6pxqzM",
        "outputId": "e90f351e-a9c8-4ba2-ee2a-1cc05492718a"
      },
      "source": [
        "plt.plot(bt,mse1b_, color = 'red')\n",
        "plt.title('MSE vs Batch Size')\n",
        "plt.ylabel('Mean Square Error')\n",
        "plt.xlabel('Number of Batch Size')\n",
        "LM35_MSE = plt.gcf()\n",
        "plt.show()\n",
        "LM35_MSE.savefig('MSE vs Batch DHT22.png',dpi = 400)"
      ],
      "execution_count": null,
      "outputs": [
        {
          "output_type": "display_data",
          "data": {
            "image/png": "[encoded data removed]",
            "text/plain": [
              "<Figure size 432x288 with 1 Axes>"
            ]
          },
          "metadata": {
            "tags": [],
            "needs_background": "light"
          }
        }
      ]
    },
    {
      "cell_type": "code",
      "metadata": {
        "id": "qgO3UEcsG1uk"
      },
      "source": [
        "annr2 = GridSearchCV(estimator, param,scoring=two_scorer(),n_jobs=-1,cv=10)\n",
        "annr2.fit(xd11,y_train)"
      ],
      "execution_count": null,
      "outputs": []
    },
    {
      "cell_type": "code",
      "metadata": {
        "id": "7feD1kwfG5RD",
        "colab": {
          "base_uri": "https://localhost:8080/"
        },
        "outputId": "6d111944-cd86-48e6-eb71-34101a342149"
      },
      "source": [
        "best_params = annr2.best_params_\n",
        "model = annr2.best_estimator_\n",
        "score = annr2.best_score_\n",
        "print ('%s\\tHP\\t%s\\t%f' % (\"R\" , str(best_params) ,abs(score)))"
      ],
      "execution_count": null,
      "outputs": [
        {
          "output_type": "stream",
          "text": [
            "R\tHP\t{'batch_size': 5, 'epochs': 500}\t0.988503\n"
          ],
          "name": "stdout"
        }
      ]
    },
    {
      "cell_type": "code",
      "metadata": {
        "id": "fZ7FeVXYG9kW"
      },
      "source": [
        "est2 = KerasRegressor(build_fn=baseline_model, epochs=500, batch_size=5, verbose=0)"
      ],
      "execution_count": null,
      "outputs": []
    },
    {
      "cell_type": "code",
      "metadata": {
        "id": "vBbWf1lpHQmr",
        "colab": {
          "base_uri": "https://localhost:8080/"
        },
        "outputId": "ab6ef241-c14c-40c6-95d0-bd35b27aea78"
      },
      "source": [
        "est2.fit(xd11,y_train, batch_size = 5, epochs = 500)"
      ],
      "execution_count": null,
      "outputs": [
        {
          "output_type": "execute_result",
          "data": {
            "text/plain": [
              "<tensorflow.python.keras.callbacks.History at 0x7f34d638ccf8>"
            ]
          },
          "metadata": {
            "tags": []
          },
          "execution_count": 58
        }
      ]
    },
    {
      "cell_type": "code",
      "metadata": {
        "id": "elKqTI_msR8u",
        "colab": {
          "base_uri": "https://localhost:8080/"
        },
        "outputId": "4a9f2fc6-ecd6-4637-cb06-4242d23c1ea2"
      },
      "source": [
        "est2.model.save_weights(\"model dht11 2.h5\")\n",
        "print(\"Saved model to disk\")"
      ],
      "execution_count": null,
      "outputs": [
        {
          "output_type": "stream",
          "text": [
            "Saved model to disk\n"
          ],
          "name": "stdout"
        }
      ]
    },
    {
      "cell_type": "code",
      "metadata": {
        "id": "pX6JIaQDHUUV"
      },
      "source": [
        "y_pred2 = est2.predict(xtd11)"
      ],
      "execution_count": null,
      "outputs": []
    },
    {
      "cell_type": "code",
      "metadata": {
        "id": "1-s_7ZIhDgxu"
      },
      "source": [
        "y_pred2_df = pd.DataFrame(data=y_pred2,index=xtd11.index)"
      ],
      "execution_count": null,
      "outputs": []
    },
    {
      "cell_type": "code",
      "metadata": {
        "id": "CsUcbVeGDtdv"
      },
      "source": [
        "y_pred2_df=y_pred2_df.loc[y_test.index]"
      ],
      "execution_count": null,
      "outputs": []
    },
    {
      "cell_type": "code",
      "metadata": {
        "id": "1y9F7Uz_HcU6",
        "colab": {
          "base_uri": "https://localhost:8080/",
          "height": 295
        },
        "outputId": "567f7ebc-ff1b-4338-c41d-bd5fa6751791"
      },
      "source": [
        "plt.plot(xt,y_test, color = 'red')\n",
        "plt.plot(xt,y_pred2_df.values, color = 'blue')\n",
        "plt.title('Prediction')\n",
        "plt.ylabel('Read Temperature (°C)')\n",
        "plt.xlabel('Temperature (°C)')\n",
        "plt.legend([\"Actual\", \"DHT11 with ANN\"], loc =\"lower right\")\n",
        "LM35_ann = plt.gcf()\n",
        "plt.show()\n",
        "LM35_ann.savefig('DHT11 ANN vs Actual.png',dpi = 400)"
      ],
      "execution_count": null,
      "outputs": [
        {
          "output_type": "display_data",
          "data": {
            "image/png": "[encoded data removed]",
            "text/plain": [
              "<Figure size 432x288 with 1 Axes>"
            ]
          },
          "metadata": {
            "tags": [],
            "needs_background": "light"
          }
        }
      ]
    },
    {
      "cell_type": "code",
      "metadata": {
        "id": "DrgoEgEeHkC5",
        "colab": {
          "base_uri": "https://localhost:8080/"
        },
        "outputId": "4c469e50-3bab-4c09-f3c9-1104d7194a3a"
      },
      "source": [
        "mse(y_test,y_pred2_df.values)"
      ],
      "execution_count": null,
      "outputs": [
        {
          "output_type": "execute_result",
          "data": {
            "text/plain": [
              "0.5266122998046128"
            ]
          },
          "metadata": {
            "tags": []
          },
          "execution_count": 130
        }
      ]
    },
    {
      "cell_type": "code",
      "metadata": {
        "id": "_nBYwy9i48yS",
        "colab": {
          "base_uri": "https://localhost:8080/"
        },
        "outputId": "688334d3-32cb-4b60-bd41-f77398c26c5e"
      },
      "source": [
        "r2_score(y_test,y_pred2_df.values)"
      ],
      "execution_count": null,
      "outputs": [
        {
          "output_type": "execute_result",
          "data": {
            "text/plain": [
              "0.9894231816774379"
            ]
          },
          "metadata": {
            "tags": []
          },
          "execution_count": 132
        }
      ]
    },
    {
      "cell_type": "code",
      "metadata": {
        "id": "ioLKQ2dEiCiq"
      },
      "source": [
        "mse2_ = []\n",
        "r22_ = []\n",
        "for num in ep:\n",
        "  est2.fit(xd11,y_train, batch_size = 5, epochs = num)\n",
        "  y_pred_ = est2.predict(xtd11)\n",
        "  y_pred_df_ = pd.DataFrame(data=y_pred_,index=xtd11.index)\n",
        "  y_pred_df_ = y_pred_df_.loc[y_test.index]\n",
        "  mse2_.append(mse(y_test,y_pred_df_.values))\n",
        "  r22_.append(r2_score(y_test, y_pred_df_.values))"
      ],
      "execution_count": null,
      "outputs": []
    },
    {
      "cell_type": "code",
      "metadata": {
        "colab": {
          "base_uri": "https://localhost:8080/",
          "height": 295
        },
        "id": "SN-giaeeiVSJ",
        "outputId": "e7cbd111-f1c5-4d17-a148-613feb04b605"
      },
      "source": [
        "plt.plot(ep,mse2_, color = 'red')\n",
        "plt.title('MSE vs Epoch')\n",
        "plt.ylabel('Mean Square Error')\n",
        "plt.xlabel('Number of Epoch')\n",
        "LM35_MSE = plt.gcf()\n",
        "plt.show()\n",
        "LM35_MSE.savefig('MSE vs Epoch DHT11.png',dpi = 400)"
      ],
      "execution_count": null,
      "outputs": [
        {
          "output_type": "display_data",
          "data": {
            "image/png": "[encoded data removed]",
            "text/plain": [
              "<Figure size 432x288 with 1 Axes>"
            ]
          },
          "metadata": {
            "tags": [],
            "needs_background": "light"
          }
        }
      ]
    },
    {
      "cell_type": "code",
      "metadata": {
        "id": "EJDo7xI9x-z8"
      },
      "source": [
        "mse2b_ = []\n",
        "r22b_ = []\n",
        "for num in bt:\n",
        "  est2.fit(xd11,y_train, batch_size = num, epochs = 500)\n",
        "  y_pred_ = est2.predict(xtd11)\n",
        "  y_pred_df_ = pd.DataFrame(data=y_pred_,index=xtd11.index)\n",
        "  y_pred_df_ = y_pred_df_.loc[y_test.index]\n",
        "  mse2b_.append(mse(y_test,y_pred_df_.values))\n",
        "  r22b_.append(r2_score(y_test, y_pred_df_.values))"
      ],
      "execution_count": null,
      "outputs": []
    },
    {
      "cell_type": "code",
      "metadata": {
        "colab": {
          "base_uri": "https://localhost:8080/",
          "height": 295
        },
        "id": "rqfTj_qTx_Ai",
        "outputId": "067bfce2-2127-47c9-b7f2-d9ba924cdaee"
      },
      "source": [
        "plt.plot(bt,mse2b_, color = 'red')\n",
        "plt.title('MSE vs Batch Size')\n",
        "plt.ylabel('Mean Square Error')\n",
        "plt.xlabel('Number of Batch Size')\n",
        "LM35_MSE = plt.gcf()\n",
        "plt.show()\n",
        "LM35_MSE.savefig('MSE vs Batch DHT11.png',dpi = 400)"
      ],
      "execution_count": null,
      "outputs": [
        {
          "output_type": "display_data",
          "data": {
            "image/png": "[encoded data removed]",
            "text/plain": [
              "<Figure size 432x288 with 1 Axes>"
            ]
          },
          "metadata": {
            "tags": [],
            "needs_background": "light"
          }
        }
      ]
    },
    {
      "cell_type": "code",
      "metadata": {
        "id": "MneRa7IvZZsl",
        "colab": {
          "base_uri": "https://localhost:8080/",
          "height": 297
        },
        "outputId": "59fab0d1-f078-4954-86ac-cae87502515f"
      },
      "source": [
        "sns.residplot(x=X_DHT11S,y=Y,lowess=True)"
      ],
      "execution_count": null,
      "outputs": [
        {
          "output_type": "execute_result",
          "data": {
            "text/plain": [
              "<matplotlib.axes._subplots.AxesSubplot at 0x7f19fc8ef400>"
            ]
          },
          "metadata": {
            "tags": []
          },
          "execution_count": 245
        },
        {
          "output_type": "display_data",
          "data": {
            "image/png": "[encoded data removed]",
            "text/plain": [
              "<Figure size 432x288 with 1 Axes>"
            ]
          },
          "metadata": {
            "tags": [],
            "needs_background": "light"
          }
        }
      ]
    },
    {
      "cell_type": "code",
      "metadata": {
        "id": "ZCYc8hZ_GE2r"
      },
      "source": [
        "from sklearn.linear_model import LinearRegression\n",
        "from sklearn.preprocessing import PolynomialFeatures\n",
        "from sklearn.model_selection import cross_val_score \n",
        "degrees = [2, 3, 4, 5, 6, 7, 8, 9] # Change degree \"hyperparameter\" here\n",
        "normalizes = [True, False] # Change normalize hyperparameter here\n",
        "best_score = 0\n",
        "best_degree = 0\n",
        "for degree in degrees:\n",
        "    for normalize in normalizes:\n",
        "        poly_features = PolynomialFeatures(degree = degree)\n",
        "        X_train_poly = poly_features.fit_transform(np.array(xd11))\n",
        "        polynomial_regressor = LinearRegression(normalize=normalize)\n",
        "        polynomial_regressor.fit(X_train_poly, y_train)\n",
        "        scores = cross_val_score(polynomial_regressor, X_train_poly, y_train, cv=10, scoring=two_scorer()) # Change k-fold cv value here\n",
        "        if max(scores) > best_score:\n",
        "            best_score = max(scores)\n",
        "            best_degree = degree\n",
        "            best_normalize = normalize"
      ],
      "execution_count": null,
      "outputs": []
    },
    {
      "cell_type": "code",
      "metadata": {
        "id": "lbZLif7tRIO1",
        "colab": {
          "base_uri": "https://localhost:8080/"
        },
        "outputId": "d9069ca1-2788-4d58-f346-50bc2c3f90f8"
      },
      "source": [
        "print(best_score,' ',best_degree,' ',best_normalize)"
      ],
      "execution_count": null,
      "outputs": [
        {
          "output_type": "stream",
          "text": [
            "0.9985119985352048   9   True\n"
          ],
          "name": "stdout"
        }
      ]
    },
    {
      "cell_type": "code",
      "metadata": {
        "id": "_hK6aJIqRoL8",
        "colab": {
          "base_uri": "https://localhost:8080/"
        },
        "outputId": "78ce8abd-f4f8-49a4-85a3-0e7306627e74"
      },
      "source": [
        "pfl = PolynomialFeatures(degree = 9)\n",
        "XLMpoly = pfl.fit_transform(np.array(xd11).reshape(-1, 1))\n",
        "preg = LinearRegression(normalize=True)\n",
        "preg.fit(np.array(xd11), y_train)"
      ],
      "execution_count": null,
      "outputs": [
        {
          "output_type": "execute_result",
          "data": {
            "text/plain": [
              "LinearRegression(copy_X=True, fit_intercept=True, n_jobs=None, normalize=True)"
            ]
          },
          "metadata": {
            "tags": []
          },
          "execution_count": 157
        }
      ]
    },
    {
      "cell_type": "code",
      "metadata": {
        "id": "bwwTiwvHSfDQ"
      },
      "source": [
        "ypred = preg.predict(np.array(xtd11))"
      ],
      "execution_count": null,
      "outputs": []
    },
    {
      "cell_type": "code",
      "metadata": {
        "id": "HsFpyulLEqDo"
      },
      "source": [
        "ypred_df = pd.DataFrame(data=ypred,index=xtd11.index)"
      ],
      "execution_count": null,
      "outputs": []
    },
    {
      "cell_type": "code",
      "metadata": {
        "id": "Mhc1OVzbE0ZW"
      },
      "source": [
        "ypred_df=ypred_df.loc[y_test.index]"
      ],
      "execution_count": null,
      "outputs": []
    },
    {
      "cell_type": "code",
      "metadata": {
        "id": "SZsrk_kfSsp8",
        "colab": {
          "base_uri": "https://localhost:8080/"
        },
        "outputId": "65c92d73-aad1-4889-80bc-0e21bb02e923"
      },
      "source": [
        "mse(y_test,ypred_df.values)"
      ],
      "execution_count": null,
      "outputs": [
        {
          "output_type": "execute_result",
          "data": {
            "text/plain": [
              "8.487708777445011"
            ]
          },
          "metadata": {
            "tags": []
          },
          "execution_count": 161
        }
      ]
    },
    {
      "cell_type": "code",
      "metadata": {
        "id": "15Knovy5SyRL",
        "colab": {
          "base_uri": "https://localhost:8080/"
        },
        "outputId": "861cecaf-3e41-4c18-f6c7-080d6c09ba47"
      },
      "source": [
        "r2_score(y_test,ypred_df.values)"
      ],
      "execution_count": null,
      "outputs": [
        {
          "output_type": "execute_result",
          "data": {
            "text/plain": [
              "0.8295274270138411"
            ]
          },
          "metadata": {
            "tags": []
          },
          "execution_count": 162
        }
      ]
    },
    {
      "cell_type": "code",
      "metadata": {
        "id": "9YNa2hQPTFxr",
        "colab": {
          "base_uri": "https://localhost:8080/",
          "height": 295
        },
        "outputId": "868562f9-1865-4c4c-d76e-28258d1dd3b9"
      },
      "source": [
        "plt.plot(xt,y_test, color = 'red')\n",
        "plt.plot(xt,ypred_df.values, color = 'blue')\n",
        "plt.title('Prediction')\n",
        "plt.ylabel('Read Temperature (°C)')\n",
        "plt.xlabel('Temperature (°C)')\n",
        "plt.legend([\"Actual\", \"LM35 with Polynomial LR\"], loc =\"lower right\")\n",
        "LM35_ann = plt.gcf()\n",
        "plt.show()\n",
        "LM35_ann.savefig('LM35 PLR vs Actual.png',dpi = 400)"
      ],
      "execution_count": null,
      "outputs": [
        {
          "output_type": "display_data",
          "data": {
            "image/png": "[encoded data removed]",
            "text/plain": [
              "<Figure size 432x288 with 1 Axes>"
            ]
          },
          "metadata": {
            "tags": [],
            "needs_background": "light"
          }
        }
      ]
    }
  ]
}